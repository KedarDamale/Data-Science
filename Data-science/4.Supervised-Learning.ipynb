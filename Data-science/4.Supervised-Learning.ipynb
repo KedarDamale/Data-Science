{
 "cells": [
  {
   "cell_type": "code",
   "execution_count": 169,
   "id": "bbb6cb50",
   "metadata": {},
   "outputs": [
    {
     "data": {
      "text/plain": [
       "'\\nMachine learining can be divided into two major learning types, supervised and unsupervised\\n\\nNote:There are semi-supervised (Few labels + many unlabelled),\\n               self supervised (No manual labels)\\n               reinforcement learning (learns by feedback not labels) \\n     also which are on the same hierarchy as supervised and unsupervised\\n     \\n📊 Supervised vs Unsupervised Learning \\n    \\n| Feature / Criteria         | **Supervised Learning**                                              | **Unsupervised Learning**                                         |\\n| -------------------------- | -------------------------------------------------------------------- | ----------------------------------------------------------------- |\\n| **Definition**             | Learns from labeled data (X, Y) to predict output from input         | Learns from unlabeled data (only X) to find patterns or structure |\\n| **Input Data**             | Includes **input features (X)** and **target labels (Y)**            | Only **input features (X)**, no target labels                     |\\n| **Objective**              | Predict output labels for new data                                   | Discover hidden patterns, structures, or groupings                |\\n| **Data Dependency**        | Requires **large labeled datasets**                                  | Works with **unlabeled datasets**                                 |\\n| **Learning Task**          | Predictive modeling                                                  | Descriptive modeling                                              |\\n| **Common Problems Solved** | Classification, Regression                                           | Clustering, Dimensionality Reduction, Anomaly Detection           |\\n| **Output Type**            | Discrete labels (classification) or continuous values (regression)   | Groups, clusters, reduced dimensions, or outlier flags            |\\n| **Model Evaluation**       | Easy (accuracy, RMSE, precision, recall, F1-score)                   | Difficult (silhouette score, manual inspection, etc.)             |\\n| **Examples of Algorithms** | Linear/Logistic Regression, SVM, Decision Trees, k-NN, Random Forest | k-Means, DBSCAN, PCA, Hierarchical Clustering, Autoencoders       |\\n| **Real-World Examples**    | Email spam detection, loan approval, disease prediction              | Customer segmentation, market basket analysis, anomaly detection  |\\n| **Training Process**       | Learns a function `f(X) ≈ Y`                                         | Learns internal data structure `g(X)` without known Y             |\\n| **Feedback**               | Direct feedback from known labels during training                    | No feedback (trial-and-error pattern discovery)                   |\\n| **Interpretability**       | Easier to explain due to known output labels                         | Harder, especially in high dimensions                             |\\n| **Risk of Overfitting**    | High, especially with small or noisy labeled data                    | Lower, but risk of misinterpretation of patterns                  |\\n\\n\\nSupervised learning can be classified into two, classification analysis and regression analysis\\n\\n📊 Classification vs Regression\\n\\n| **Aspect**                    | **Classification**                                          | **Regression**                                                |\\n| ----------------------------- | ----------------------------------------------------------- | ------------------------------------------------------------- |\\n| **Definition**                | Predicts **discrete class labels**                          | Predicts **continuous numerical values**                      |\\n| **Output Type**               | Categorical (e.g., \"Yes/No\", \"Cat/Dog\")                     | Real-valued (e.g., ₹, °C, kg)                                 |\\n| **Nature of Target Variable** | Finite number of classes                                    | Infinite number of possible values                            |\\n| **Goal**                      | Assign input to one of the known categories                 | Estimate a continuous quantity based on input features        |\\n| **Examples**                  | Email = Spam or Not Spam<br>Fruit = Apple, Orange, Banana   | Predict house price<br>Predict temperature                    |\\n| **Evaluation Metrics**        | Accuracy, Precision, Recall, F1-Score, AUC                  | MAE (Mean Absolute Error), MSE (Mean Squared Error), RMSE, R² |\\n| **Prediction Output**         | A label (e.g., \"dog\") or class index (e.g., 2)              | A number (e.g., 234000.0)                                     |\\n| **Decision Boundary?**        | ✅ Yes (used to separate classes)                            | ❌ No (fits curve/line to data points)                         |\\n| **Algorithms Used**           | Logistic Regression, SVM, k-NN, Decision Trees, Naive Bayes | Linear Regression, Polynomial Regression, SVR, Decision Trees |\\n| **Use Cases**                 | Face recognition, medical diagnosis, sentiment analysis     | Stock price prediction, demand forecasting, time series       |\\n| **Types**                     | Binary, Multi-Class, Multi-Label                            | Simple, Multiple, Polynomial, Non-linear                      |\\n\\n\\nLinear and non linear are not the types but actually properties of algorithms they exists in both supervised and unsupervised learning\\n\\nLinear algorithm:\\n\\nIn math, something is linear if it satisfies two key properties: 1.Additivity (f(x1+x2)=f(x1)+f(x2))\\n                                                                 2.Homogenity(f(a.x)=a.f(x))\\n\\n\\nTogether, this means the function f behaves like a straight line or flat plane in multidimensional space.\\n\\n\\nA linear model is one where the output is a weighted sum of the inputs, plus a constant \\nbias term. No powers, no products of inputs, no other functions like sin, exp, log — \\njust weighted sums. y=w1x1+w2x2+w3x3+......wnxn+b  (x are input features and ws are weights i.e parameters and b is bias)\\n\\n{\\n    Weights (parameters):Weights are the coefficients or parameters assigned to each input feature in a model. \\n                         They represent the strength and direction of the relationship between the input feature \\n                         and the output prediction. Every xi will have wi as its weight\\n                         \\n                         Each weight controls how much the corresponding input feature contributes to the final output. \\n                         If w2 is large (positive or negative), the feature x2 has a strong influence; if close to zero, \\n                         the feature is almost ignored.\\n                         \\n                         During training, the algorithm adjusts these weights to minimize prediction error. \\n                         This adjustment is usually done by gradient descent or similar optimization algorithms.\\n\\n    Bias (Intercept or Offset or intercept): Bias is a scalar value added to the weighted sum of inputs before applying any \\n                                activation function (if any). It acts as an offset or baseline value, represented as b or w0\\n                                \\n                                The bias allows the model to shift the output up or down, enabling it to fit data better \\n                                that does not pass through the origin (0,0,...). Without bias, the model prediction would\\n                                be forced to be zero when all input features are zero, which is rarely the case in real-world data.\\n\\n}\\n\\nThe relationship between inputs and output is linear because y is a linear combination of inputs.\\n\\n\\nNon Linear algorithm:\\n\\nAnything that does not satisfy the linearity properties above is non-linear.\\n\\nNon-linear functions produce curved, warped, or irregular surfaces in multidimensional space.\\n\\nThe output is not just a weighted sum of inputs. The model may include: powers and exponents \\nor products of inputs,trgonometric function like sin and cos, e.g: y=w1x1+w2x^2+w3sinx3+b\\n\\nThe relationship between inputs and output is non linear because y is a non linear combination of inputs.\\n\\n\\n| Aspect                            | Linear                                             | Non-linear                                                         |\\n| --------------------------------- | -------------------------------------------------- | ------------------------------------------------------------------ |\\n| **Mathematical Definition**       | Satisfies additivity and homogeneity:              | Does **not** satisfy linearity properties:                         |\\n|                                   | $f(a x_1 + b x_2) = a f(x_1) + b f(x_2)$           | May involve powers, products, or other nonlinear functions         |\\n|                                   |                                                    |                                                                    |\\n| **Function Form**                 | Weighted sum of inputs + bias:                     | Includes non-linear transformations, e.g.,                         |\\n|                                   | $\\\\displaystyle y = w_1 x_1 + w_2 x_2 + \\\\cdots + b$ | $y = w_1 x_1^2 + w_2 \\\\sin(x_2) + b$                                |\\n|                                   |                                                    |                                                                    |\\n| **Geometric Behavior**            | Flat plane or hyperplane in multidimensional space | Curved, warped, twisted surfaces in multidimensional space         |\\n|                                   | (straight line in 2D, plane in 3D)                 | (parabolas, waves, bowls, complex shapes)                          |\\n|                                   |                                                    |                                                                    |\\n| **Supervised ML Examples**        | Linear Regression, Logistic Regression, Linear SVM | Polynomial Regression, Kernel SVM, Neural Networks, Decision Trees |\\n|                                   |                                                    |                                                                    |\\n| **Unsupervised ML Examples**      | PCA, K-means (approximate linear clusters)         | Kernel PCA, t-SNE, DBSCAN, Autoencoders                            |\\n|                                   |                                                    |                                                                    |\\n| **Decision Boundaries**           | Straight lines or flat hyperplanes                 | Curved or complex-shaped boundaries                                |\\n|                                   |                                                    |                                                                    |\\n| **Interpretability**              | High — easy to explain weights and effects         | Low — hard to interpret complex transformations                    |\\n|                                   |                                                    |                                                                    |\\n| **Computational Complexity**      | Lower — faster training and prediction             | Higher — requires more computation and memory                      |\\n|                                   |                                                    |                                                                    |\\n| **Ability to Model Complex Data** | Limited — only models linear relationships         | Strong — can model highly complex and nonlinear relationships      |\\n|                                   |                                                    |                                                                    |\\n| **Suitability**                   | When data relationships are approximately linear   | When data relationships are complex and non-linear                 |\\n\\nIf the relationship between input and output feature is linear (\\n    \\n    Linear data generally means data that shows a linear relationship between variables\\n    which means a constant linear relationship such as this\\n    \\n    | Hours Studied (X) | Marks Scored (Y) |\\n| ----------------- | ---------------- |\\n| 1                 | 50               |\\n| 2                 | 60               |\\n| 3                 | 70               |\\n| 4                 | 80               |\\n| 5                 | 90               |\\n\\n*there can be multiple columns also\\n\\nHere its clear that if you are studying more you are getting more marks we can also create a fuction of that y=10x+40 x being number of hours studied\\n \\n| Hours Studied (X) | Marks Scored (Y) |\\n| ----------------- | ---------------- |\\n| 1                 | 55               |\\n| 2                 | 65               |\\n| 3                 | 72               |\\n| 4                 | 78               |\\n| 5                 | 82               |\\n\\nthis data does not show such constant increase in marks depending on increase in hours relationship means its non linear data means we cant form a equation whihc will applied to all\\n\\n) then linear algo is prefereed otherwise non linear algorithm\\n\\n'"
      ]
     },
     "execution_count": 169,
     "metadata": {},
     "output_type": "execute_result"
    }
   ],
   "source": [
    "\"\"\"\n",
    "Machine learining can be divided into two major learning types, supervised and unsupervised\n",
    "\n",
    "Note:There are semi-supervised (Few labels + many unlabelled),\n",
    "               self supervised (No manual labels)\n",
    "               reinforcement learning (learns by feedback not labels) \n",
    "     also which are on the same hierarchy as supervised and unsupervised\n",
    "     \n",
    "📊 Supervised vs Unsupervised Learning \n",
    "    \n",
    "| Feature / Criteria         | **Supervised Learning**                                              | **Unsupervised Learning**                                         |\n",
    "| -------------------------- | -------------------------------------------------------------------- | ----------------------------------------------------------------- |\n",
    "| **Definition**             | Learns from labeled data (X, Y) to predict output from input         | Learns from unlabeled data (only X) to find patterns or structure |\n",
    "| **Input Data**             | Includes **input features (X)** and **target labels (Y)**            | Only **input features (X)**, no target labels                     |\n",
    "| **Objective**              | Predict output labels for new data                                   | Discover hidden patterns, structures, or groupings                |\n",
    "| **Data Dependency**        | Requires **large labeled datasets**                                  | Works with **unlabeled datasets**                                 |\n",
    "| **Learning Task**          | Predictive modeling                                                  | Descriptive modeling                                              |\n",
    "| **Common Problems Solved** | Classification, Regression                                           | Clustering, Dimensionality Reduction, Anomaly Detection           |\n",
    "| **Output Type**            | Discrete labels (classification) or continuous values (regression)   | Groups, clusters, reduced dimensions, or outlier flags            |\n",
    "| **Model Evaluation**       | Easy (accuracy, RMSE, precision, recall, F1-score)                   | Difficult (silhouette score, manual inspection, etc.)             |\n",
    "| **Examples of Algorithms** | Linear/Logistic Regression, SVM, Decision Trees, k-NN, Random Forest | k-Means, DBSCAN, PCA, Hierarchical Clustering, Autoencoders       |\n",
    "| **Real-World Examples**    | Email spam detection, loan approval, disease prediction              | Customer segmentation, market basket analysis, anomaly detection  |\n",
    "| **Training Process**       | Learns a function `f(X) ≈ Y`                                         | Learns internal data structure `g(X)` without known Y             |\n",
    "| **Feedback**               | Direct feedback from known labels during training                    | No feedback (trial-and-error pattern discovery)                   |\n",
    "| **Interpretability**       | Easier to explain due to known output labels                         | Harder, especially in high dimensions                             |\n",
    "| **Risk of Overfitting**    | High, especially with small or noisy labeled data                    | Lower, but risk of misinterpretation of patterns                  |\n",
    "\n",
    "\n",
    "Supervised learning can be classified into two, classification analysis and regression analysis\n",
    "\n",
    "📊 Classification vs Regression\n",
    "\n",
    "| **Aspect**                    | **Classification**                                          | **Regression**                                                |\n",
    "| ----------------------------- | ----------------------------------------------------------- | ------------------------------------------------------------- |\n",
    "| **Definition**                | Predicts **discrete class labels**                          | Predicts **continuous numerical values**                      |\n",
    "| **Output Type**               | Categorical (e.g., \"Yes/No\", \"Cat/Dog\")                     | Real-valued (e.g., ₹, °C, kg)                                 |\n",
    "| **Nature of Target Variable** | Finite number of classes                                    | Infinite number of possible values                            |\n",
    "| **Goal**                      | Assign input to one of the known categories                 | Estimate a continuous quantity based on input features        |\n",
    "| **Examples**                  | Email = Spam or Not Spam<br>Fruit = Apple, Orange, Banana   | Predict house price<br>Predict temperature                    |\n",
    "| **Evaluation Metrics**        | Accuracy, Precision, Recall, F1-Score, AUC                  | MAE (Mean Absolute Error), MSE (Mean Squared Error), RMSE, R² |\n",
    "| **Prediction Output**         | A label (e.g., \"dog\") or class index (e.g., 2)              | A number (e.g., 234000.0)                                     |\n",
    "| **Decision Boundary?**        | ✅ Yes (used to separate classes)                            | ❌ No (fits curve/line to data points)                         |\n",
    "| **Algorithms Used**           | Logistic Regression, SVM, k-NN, Decision Trees, Naive Bayes | Linear Regression, Polynomial Regression, SVR, Decision Trees |\n",
    "| **Use Cases**                 | Face recognition, medical diagnosis, sentiment analysis     | Stock price prediction, demand forecasting, time series       |\n",
    "| **Types**                     | Binary, Multi-Class, Multi-Label                            | Simple, Multiple, Polynomial, Non-linear                      |\n",
    "\n",
    "\n",
    "Linear and non linear are not the types but actually properties of algorithms they exists in both supervised and unsupervised learning\n",
    "\n",
    "Linear algorithm:\n",
    "\n",
    "In math, something is linear if it satisfies two key properties: 1.Additivity (f(x1+x2)=f(x1)+f(x2))\n",
    "                                                                 2.Homogenity(f(a.x)=a.f(x))\n",
    "\n",
    "\n",
    "Together, this means the function f behaves like a straight line or flat plane in multidimensional space.\n",
    "\n",
    "\n",
    "A linear model is one where the output is a weighted sum of the inputs, plus a constant \n",
    "bias term. No powers, no products of inputs, no other functions like sin, exp, log — \n",
    "just weighted sums. y=w1x1+w2x2+w3x3+......wnxn+b  (x are input features and ws are weights i.e parameters and b is bias)\n",
    "\n",
    "{\n",
    "    Weights (parameters):Weights are the coefficients or parameters assigned to each input feature in a model. \n",
    "                         They represent the strength and direction of the relationship between the input feature \n",
    "                         and the output prediction. Every xi will have wi as its weight\n",
    "                         \n",
    "                         Each weight controls how much the corresponding input feature contributes to the final output. \n",
    "                         If w2 is large (positive or negative), the feature x2 has a strong influence; if close to zero, \n",
    "                         the feature is almost ignored.\n",
    "                         \n",
    "                         During training, the algorithm adjusts these weights to minimize prediction error. \n",
    "                         This adjustment is usually done by gradient descent or similar optimization algorithms.\n",
    "\n",
    "    Bias (Intercept or Offset or intercept): Bias is a scalar value added to the weighted sum of inputs before applying any \n",
    "                                activation function (if any). It acts as an offset or baseline value, represented as b or w0\n",
    "                                \n",
    "                                The bias allows the model to shift the output up or down, enabling it to fit data better \n",
    "                                that does not pass through the origin (0,0,...). Without bias, the model prediction would\n",
    "                                be forced to be zero when all input features are zero, which is rarely the case in real-world data.\n",
    "\n",
    "}\n",
    "\n",
    "The relationship between inputs and output is linear because y is a linear combination of inputs.\n",
    "\n",
    "\n",
    "Non Linear algorithm:\n",
    "\n",
    "Anything that does not satisfy the linearity properties above is non-linear.\n",
    "\n",
    "Non-linear functions produce curved, warped, or irregular surfaces in multidimensional space.\n",
    "\n",
    "The output is not just a weighted sum of inputs. The model may include: powers and exponents \n",
    "or products of inputs,trgonometric function like sin and cos, e.g: y=w1x1+w2x^2+w3sinx3+b\n",
    "\n",
    "The relationship between inputs and output is non linear because y is a non linear combination of inputs.\n",
    "\n",
    "\n",
    "| Aspect                            | Linear                                             | Non-linear                                                         |\n",
    "| --------------------------------- | -------------------------------------------------- | ------------------------------------------------------------------ |\n",
    "| **Mathematical Definition**       | Satisfies additivity and homogeneity:              | Does **not** satisfy linearity properties:                         |\n",
    "|                                   | $f(a x_1 + b x_2) = a f(x_1) + b f(x_2)$           | May involve powers, products, or other nonlinear functions         |\n",
    "|                                   |                                                    |                                                                    |\n",
    "| **Function Form**                 | Weighted sum of inputs + bias:                     | Includes non-linear transformations, e.g.,                         |\n",
    "|                                   | $\\displaystyle y = w_1 x_1 + w_2 x_2 + \\cdots + b$ | $y = w_1 x_1^2 + w_2 \\sin(x_2) + b$                                |\n",
    "|                                   |                                                    |                                                                    |\n",
    "| **Geometric Behavior**            | Flat plane or hyperplane in multidimensional space | Curved, warped, twisted surfaces in multidimensional space         |\n",
    "|                                   | (straight line in 2D, plane in 3D)                 | (parabolas, waves, bowls, complex shapes)                          |\n",
    "|                                   |                                                    |                                                                    |\n",
    "| **Supervised ML Examples**        | Linear Regression, Logistic Regression, Linear SVM | Polynomial Regression, Kernel SVM, Neural Networks, Decision Trees |\n",
    "|                                   |                                                    |                                                                    |\n",
    "| **Unsupervised ML Examples**      | PCA, K-means (approximate linear clusters)         | Kernel PCA, t-SNE, DBSCAN, Autoencoders                            |\n",
    "|                                   |                                                    |                                                                    |\n",
    "| **Decision Boundaries**           | Straight lines or flat hyperplanes                 | Curved or complex-shaped boundaries                                |\n",
    "|                                   |                                                    |                                                                    |\n",
    "| **Interpretability**              | High — easy to explain weights and effects         | Low — hard to interpret complex transformations                    |\n",
    "|                                   |                                                    |                                                                    |\n",
    "| **Computational Complexity**      | Lower — faster training and prediction             | Higher — requires more computation and memory                      |\n",
    "|                                   |                                                    |                                                                    |\n",
    "| **Ability to Model Complex Data** | Limited — only models linear relationships         | Strong — can model highly complex and nonlinear relationships      |\n",
    "|                                   |                                                    |                                                                    |\n",
    "| **Suitability**                   | When data relationships are approximately linear   | When data relationships are complex and non-linear                 |\n",
    "\n",
    "If the relationship between input and output feature is linear (\n",
    "    \n",
    "    Linear data generally means data that shows a linear relationship between variables\n",
    "    which means a constant linear relationship such as this\n",
    "    \n",
    "    | Hours Studied (X) | Marks Scored (Y) |\n",
    "| ----------------- | ---------------- |\n",
    "| 1                 | 50               |\n",
    "| 2                 | 60               |\n",
    "| 3                 | 70               |\n",
    "| 4                 | 80               |\n",
    "| 5                 | 90               |\n",
    "\n",
    "*there can be multiple columns also\n",
    "\n",
    "Here its clear that if you are studying more you are getting more marks we can also create a fuction of that y=10x+40 x being number of hours studied\n",
    " \n",
    "| Hours Studied (X) | Marks Scored (Y) |\n",
    "| ----------------- | ---------------- |\n",
    "| 1                 | 55               |\n",
    "| 2                 | 65               |\n",
    "| 3                 | 72               |\n",
    "| 4                 | 78               |\n",
    "| 5                 | 82               |\n",
    "\n",
    "this data does not show such constant increase in marks depending on increase in hours relationship means its non linear data means we cant form a equation whihc will applied to all\n",
    "\n",
    ") then linear algo is prefereed otherwise non linear algorithm\n",
    "\n",
    "\"\"\""
   ]
  },
  {
   "cell_type": "markdown",
   "id": "4c118e75",
   "metadata": {},
   "source": [
    "# **Regression analysis**"
   ]
  },
  {
   "cell_type": "code",
   "execution_count": 170,
   "id": "922991ec",
   "metadata": {},
   "outputs": [
    {
     "data": {
      "text/plain": [
       "'\\nRegression is a type of supervised learning problem where the goal is to predict a \\ncontinuous numerical output (dependent variable) based on one or more input features \\n(independent variables). Unlike classification (which predicts discrete labels or \\ncategories), regression outputs a real-valued number.\\n\\nHow regression works:\\n\\nGiven data set of N sample xi and yi are input pfeatures and output features \\nrespectively, regression algo learns a function based of x and y that maps output y\\n\\nThere are many linear regression analysis algos such as linear regression and many \\nnon linear algorithms such as polynomial regression and lasso and many more\\n'"
      ]
     },
     "execution_count": 170,
     "metadata": {},
     "output_type": "execute_result"
    }
   ],
   "source": [
    "\"\"\"\n",
    "Regression is a type of supervised learning problem where the goal is to predict a \n",
    "continuous numerical output (dependent variable) based on one or more input features \n",
    "(independent variables). Unlike classification (which predicts discrete labels or \n",
    "categories), regression outputs a real-valued number.\n",
    "\n",
    "How regression works:\n",
    "\n",
    "Given data set of N sample xi and yi are input pfeatures and output features \n",
    "respectively, regression algo learns a function based of x and y that maps output y\n",
    "\n",
    "There are many linear regression analysis algos such as linear regression and many \n",
    "non linear algorithms such as polynomial regression and lasso and many more\n",
    "\"\"\""
   ]
  },
  {
   "cell_type": "markdown",
   "id": "cd64d802",
   "metadata": {},
   "source": [
    "**Linear regression**"
   ]
  },
  {
   "cell_type": "code",
   "execution_count": 171,
   "id": "ce23629d",
   "metadata": {},
   "outputs": [
    {
     "data": {
      "text/plain": [
       "'\\n\\nLinear regression can only be done on data that shows a linear relationship between the input features and the target variable. \\n(Technically, linear regression assumes this linear relationship, but it can still be applied to non-linear data if you:\\n   - Transform the features (e.g., using polynomial features), or\\n   - Accept that the model may not fit the data well.)\\n\\nThere is no limit on the number of features allowed in linear regression.\\n\\nIf only one input feature is given, it is called simple linear regression:\\n    y = w1·x1 + b (eq of line)\\n\\nIf multiple input features are given, it is called multiple linear regression:\\n    y = w1·x1 + w2·x2 + ... + wp·xp + b (eq of hyperplane)\\n\\nBoth are part of the same linear regression algorithm and use the same underlying function and learning process.\\n\\n\\nLinear regression tries to learn the best-fitting straight line (or hyperplane) that predicts the output variable y from input features\\nthe relationship is modelled as y=w1x1+.........+wnxn+b here y is predicted output,weights are slopes(y=mx+c y is output var x in input var m is slope \\nand c is bias/itercept basically m will decide the slop that is theta and the shift on x axis and b will decide the shift of line on y axis from 0,0) \\nfor each feature the goal is to learn the optimal values of weights and bias that minimize the prediction error.\\n\\nslope=m=(x2-x1)/(y2-y1)\\n\\nEvaluation of the best fitted line is done by Mean squared error and best one with less error is chosen\\n\\nErrors and types of errors:\\n\\nError is difference between actual value of y - predicted value of y\\n\\nTypes these are types of loss fuction(mathematical function that quantifies overall error) and not actual error(ya-ap): \\n       \\n       1.Mean Absolute Error (MAE): average of  absolute of errors (ya-yp)\\n                                    1/N(sum(abs(ya-yp)))\\n       2.Mean Squared Error (MSE): same as MAE but here instead of abs we squre things\\n                                    1/N(sum(pow(ya-yp,2)))\\n       3.Root Mean Squared Error (RMSE)=root of MSE\\n       \\n       4.R sqaured  All these are explained later\\n\\nCost function: Sum or mean of overall losses in entire dataset\\n\\nAfter best line has chosen , in same procedure weights and bias all learn and adjust themselves by epoch(iteration) training basically like trail and error\\ntry differnt combinations and calculate MSE and select those who have less MSE\\n\\nNow for prediction, model takes a value x whic his place in our equation y=wnewxnew+b and model returns the output\\n\\n'"
      ]
     },
     "execution_count": 171,
     "metadata": {},
     "output_type": "execute_result"
    }
   ],
   "source": [
    "\"\"\"\n",
    "\n",
    "Linear regression can only be done on data that shows a linear relationship between the input features and the target variable. \n",
    "(Technically, linear regression assumes this linear relationship, but it can still be applied to non-linear data if you:\n",
    "   - Transform the features (e.g., using polynomial features), or\n",
    "   - Accept that the model may not fit the data well.)\n",
    "\n",
    "There is no limit on the number of features allowed in linear regression.\n",
    "\n",
    "If only one input feature is given, it is called simple linear regression:\n",
    "    y = w1·x1 + b (eq of line)\n",
    "\n",
    "If multiple input features are given, it is called multiple linear regression:\n",
    "    y = w1·x1 + w2·x2 + ... + wp·xp + b (eq of hyperplane)\n",
    "\n",
    "Both are part of the same linear regression algorithm and use the same underlying function and learning process.\n",
    "\n",
    "\n",
    "Linear regression tries to learn the best-fitting straight line (or hyperplane) that predicts the output variable y from input features\n",
    "the relationship is modelled as y=w1x1+.........+wnxn+b here y is predicted output,weights are slopes(y=mx+c y is output var x in input var m is slope \n",
    "and c is bias/itercept basically m will decide the slop that is theta and the shift on x axis and b will decide the shift of line on y axis from 0,0) \n",
    "for each feature the goal is to learn the optimal values of weights and bias that minimize the prediction error.\n",
    "\n",
    "slope=m=(x2-x1)/(y2-y1)\n",
    "\n",
    "Evaluation of the best fitted line is done by Mean squared error and best one with less error is chosen\n",
    "\n",
    "Errors and types of errors:\n",
    "\n",
    "Error is difference between actual value of y - predicted value of y\n",
    "\n",
    "Types these are types of loss fuction(mathematical function that quantifies overall error) and not actual error(ya-ap): \n",
    "       \n",
    "       1.Mean Absolute Error (MAE): average of  absolute of errors (ya-yp)\n",
    "                                    1/N(sum(abs(ya-yp)))\n",
    "       2.Mean Squared Error (MSE): same as MAE but here instead of abs we squre things\n",
    "                                    1/N(sum(pow(ya-yp,2)))\n",
    "       3.Root Mean Squared Error (RMSE)=root of MSE\n",
    "       \n",
    "       4.R sqaured  All these are explained later\n",
    "\n",
    "Cost function: Sum or mean of overall losses in entire dataset\n",
    "\n",
    "After best line has chosen , in same procedure weights and bias all learn and adjust themselves by epoch(iteration) training basically like trail and error\n",
    "try differnt combinations and calculate MSE and select those who have less MSE\n",
    "\n",
    "Now for prediction, model takes a value x whic his place in our equation y=wnewxnew+b and model returns the output\n",
    "\n",
    "\"\"\""
   ]
  },
  {
   "cell_type": "code",
   "execution_count": 172,
   "id": "fb9a419f",
   "metadata": {},
   "outputs": [],
   "source": [
    "import pandas as pd\n",
    "import matplotlib.pyplot as plt"
   ]
  },
  {
   "cell_type": "code",
   "execution_count": 173,
   "id": "9b01f6e4",
   "metadata": {},
   "outputs": [
    {
     "name": "stdout",
     "output_type": "stream",
     "text": [
      "Predicted marks for 51 hours of study: 243.64\n"
     ]
    }
   ],
   "source": [
    "#Simple linear regession\n",
    "\n",
    "\n",
    "data = {\n",
    "    \"hours\": [1, 2, 3, 4, 5, 6, 7, 8, 9, 10, \n",
    "              11, 12, 13, 14, 15, 16, 17, 18, 19, 20, \n",
    "              21, 22, 23, 24, 25, 26, 27, 28, 29, 30, \n",
    "              31, 32, 33, 34, 35, 36, 37, 38, 39, 40, \n",
    "              41, 42, 43, 44, 45, 46, 47, 48, 49, 50, 51],\n",
    "    \n",
    "    \"Marks_Scored\": [52.4, 56.2, 61.5, 64.8, 69.1, 73.7, 78.4, 79.9, 86.0, 89.3,\n",
    "                     91.5, 96.2, 98.9, 104.3, 106.7, 108.2, 113.6, 116.4, 120.9, 124.0,\n",
    "                     127.6, 132.3, 134.9, 139.4, 142.5, 145.2, 150.6, 152.1, 157.8, 159.0,\n",
    "                     164.2, 166.4, 171.9, 173.0, 178.1, 181.7, 184.6, 189.2, 192.7, 197.3,\n",
    "                     198.8, 203.6, 207.5, 212.3, 214.7, 218.6, 222.2, 226.1, 229.3, 235.0, 298.5]\n",
    "}\n",
    "\n",
    "\n",
    "\n",
    "\n",
    "df=pd.DataFrame(data)\n",
    "\n",
    "from sklearn.model_selection import train_test_split\n",
    "from sklearn.linear_model import LinearRegression\n",
    "model=LinearRegression()\n",
    "\n",
    "x=df.iloc[:,:-1] #Make sure this is 2D: (n_samples, n_features) so use iloc[] preferable dont just separate the array like we have done in y, in output feature it is okay as it only requires one argument\n",
    "y=df['Marks_Scored']\n",
    "\n",
    "train_x,test_x,train_y,test_y=train_test_split(x,y,random_state=13,test_size=0.25) #random state and testsize are changed to figure out best possible accuracy by trial and error\n",
    "\n",
    "model.fit(train_x,train_y)\n",
    "\n",
    "#pred=model.predict([[51]])#this has to be 2d array to just 51 is scalar but dont predict like this instead\n",
    "\n",
    "input_data=pd.DataFrame({\"hours\":[51]})\n",
    "\n",
    "pred = model.predict(input_data)\n",
    "print(f\"Predicted marks for 51 hours of study: {pred[0]:.2f}\")\n"
   ]
  },
  {
   "cell_type": "code",
   "execution_count": 174,
   "id": "49c9c3b2",
   "metadata": {},
   "outputs": [
    {
     "data": {
      "text/plain": [
       "[<matplotlib.lines.Line2D at 0x20e10224910>]"
      ]
     },
     "execution_count": 174,
     "metadata": {},
     "output_type": "execute_result"
    },
    {
     "data": {
      "image/png": "[encoded data removed]",
      "text/plain": [
       "<Figure size 640x480 with 1 Axes>"
      ]
     },
     "metadata": {},
     "output_type": "display_data"
    }
   ],
   "source": [
    "#Graphical analysis\n",
    "\n",
    "plt.scatter(df['hours'],df['Marks_Scored'])\n",
    "\n",
    "plt.plot(df['hours'],model.predict(df[['hours']]),color='red')"
   ]
  },
  {
   "cell_type": "code",
   "execution_count": 175,
   "id": "db3cadb0",
   "metadata": {},
   "outputs": [
    {
     "name": "stdout",
     "output_type": "stream",
     "text": [
      "Accuracy score is 99.51\n",
      "Coefficient or m or slop used is 3.84\n",
      "Bias or  intercept or is 47.70\n"
     ]
    }
   ],
   "source": [
    "#Accuracy score ,coef,bias\n",
    "\n",
    "print(f'Accuracy score is {model.score(test_x,test_y)*100:.2f}')\n",
    "\n",
    "print(f'Coefficient or m or slop used is {model.coef_[0]:.2f}') #as value of slop is positive angle with x axis is less than 90\n",
    "\n",
    "print(f'Bias or  intercept or is {model.intercept_:.2f}')"
   ]
  },
  {
   "cell_type": "code",
   "execution_count": 176,
   "id": "40fb0cf3",
   "metadata": {},
   "outputs": [],
   "source": [
    "#Multiple regression \n",
    "\n",
    "data = {\n",
    "    \"Study_Hours\": [\n",
    "        1, 2, 2, 3, 4, 5, 5, 6, 6, 7,\n",
    "        7, 8, 8, 9, 9, 10, 10, 11, 11, 12,\n",
    "        13, 13, 14, 14, 15, 15, 16, 17, 17, 18,\n",
    "        18, 19, 20, 20, 21, 21, 22, 22, 23, 24,\n",
    "        24, 25, 26, 26, 27, 28, 29, 30, 30, 31, 32\n",
    "    ],\n",
    "\n",
    "    \"Sleep_Hours\": [\n",
    "        8, 7.5, 7, 6.5, 6, 6, 5.5, 5.5, 5, 5,\n",
    "        4.5, 4.5, 4, 4, 4, 3.5, 3.5, 3.5, 3, 3,\n",
    "        3, 3, 3, 2.5, 2.5, 2.5, 2, 2, 2, 2,\n",
    "        1.5, 1.5, 1.5, 1, 1, 1, 1, 0.5, 0.5, 0.5,\n",
    "        0.5, 0.5, 0.5, 0.5, 0.5, 0.5, 0.5, 0.5, 0.5, 0.5, 0.5\n",
    "    ],\n",
    "\n",
    "    \"Attendance\": [\n",
    "        60, 65, 63, 67, 70, 68, 72, 74, 76, 78,\n",
    "        79, 81, 83, 85, 87, 88, 89, 90, 91, 92,\n",
    "        93, 94, 95, 95, 96, 96, 97, 97, 97, 98,\n",
    "        98, 98, 99, 99, 99, 99, 99, 99, 100, 100,\n",
    "        100, 100, 100, 100, 100, 100, 100, 100, 100, 100, 100\n",
    "    ],\n",
    "\n",
    "    \"Assignments_Submitted\": [\n",
    "        2, 2, 3, 3, 3, 4, 4, 4, 5, 5,\n",
    "        5, 5, 6, 6, 6, 6, 6, 7, 7, 7,\n",
    "        7, 8, 8, 8, 8, 8, 9, 9, 9, 9,\n",
    "        9, 10, 10, 10, 10, 10, 10, 10, 10, 10,\n",
    "        10, 10, 10, 10, 10, 10, 10, 10, 10, 10, 10\n",
    "    ],\n",
    "\n",
    "    \"Marks_Scored\": [\n",
    "        48, 52, 53, 55, 59, 62, 63, 66, 68, 71,\n",
    "        72, 74, 77, 79, 81, 83, 84, 86, 88, 89,\n",
    "        91, 92, 93, 93, 94, 95, 96, 96, 97, 97,\n",
    "        98, 98, 98, 99, 99, 99, 99, 99, 100, 100,\n",
    "        100, 100, 100, 100, 100, 100, 100, 100, 100, 100, 100\n",
    "    ]\n",
    "}\n",
    "\n",
    "df=pd.DataFrame(data)\n",
    "\n",
    "x=df.iloc[:,:-1]\n",
    "y=df['Marks_Scored']"
   ]
  },
  {
   "cell_type": "code",
   "execution_count": 177,
   "id": "6429f280",
   "metadata": {},
   "outputs": [
    {
     "data": {
      "text/plain": [
       "<Axes: >"
      ]
     },
     "execution_count": 177,
     "metadata": {},
     "output_type": "execute_result"
    },
    {
     "data": {
      "image/png": "[encoded data removed]",
      "text/plain": [
       "<Figure size 640x480 with 2 Axes>"
      ]
     },
     "metadata": {},
     "output_type": "display_data"
    }
   ],
   "source": [
    "#checking linearity using heatmap and corelation\n",
    "\n",
    "import seaborn as sns\n",
    "\n",
    "sns.heatmap(df.corr(),annot=True)\n",
    "\n",
    "#as you can see the pairs in dark are not corelated therefore \n",
    "# sleep hours and marks scored are not corelated so its better for\n",
    "# the model to drop sleep hours feature(not dropped while training as this was done after)"
   ]
  },
  {
   "cell_type": "code",
   "execution_count": 178,
   "metadata": {},
   "outputs": [
    {
     "name": "stdout",
     "output_type": "stream",
     "text": [
      "If student studies for 40 hours,sleeps from 7 hours daily,attends 95 percent calsses and submits 10 assignments will get 93.15%\n"
     ]
    }
   ],
   "source": [
    "train_x,test_x,train_y,test_y=train_test_split(x,y,random_state=13,test_size=0.25)\n",
    "\n",
    "model=LinearRegression()\n",
    "\n",
    "model.fit(train_x,train_y)\n",
    "\n",
    "#pred=model.predict([[40,7,95,10]]) dont predict like \n",
    "\n",
    "input_data = pd.DataFrame({\n",
    "    'Study_Hours': [40],\n",
    "    'Sleep_Hours': [7],\n",
    "    'Attendance': [95],\n",
    "    'Assignments_Submitted': [10]\n",
    "})\n",
    "\n",
    "# Predict safely with no warning\n",
    "pred=model.predict(input_data)\n",
    "\n",
    "\n",
    "print(f'If student studies for 40 hours,sleeps from 7 hours daily,attends 95 percent calsses and submits 10 assignments will get {pred[0]:.2f}%')\n"
   ]
  },
  {
   "cell_type": "code",
   "execution_count": 179,
   "id": "b0bc36a0",
   "metadata": {},
   "outputs": [
    {
     "data": {
      "text/plain": [
       "<matplotlib.collections.PathCollection at 0x20e10353210>"
      ]
     },
     "execution_count": 179,
     "metadata": {},
     "output_type": "execute_result"
    },
    {
     "data": {
      "image/png": "[encoded data removed]",
      "text/plain": [
       "<Figure size 640x480 with 1 Axes>"
      ]
     },
     "metadata": {},
     "output_type": "display_data"
    }
   ],
   "source": [
    "plt.scatter(df['Study_Hours'],df['Marks_Scored'])\n",
    "plt.scatter(df['Sleep_Hours'],df['Marks_Scored'])\n",
    "plt.scatter(df['Attendance'],df['Marks_Scored'])\n",
    "plt.scatter(df['Assignments_Submitted'],df['Marks_Scored'])"
   ]
  },
  {
   "cell_type": "code",
   "execution_count": 180,
   "id": "93d59078",
   "metadata": {},
   "outputs": [
    {
     "name": "stdout",
     "output_type": "stream",
     "text": [
      "Accuracy score is 99.86\n",
      "Coefficients or m or slops used is [-0.05199365 -0.12222603  1.08518713  1.14274669]\n",
      "Bias or  intercept or is -18.44\n"
     ]
    }
   ],
   "source": [
    "#Accuracy score ,coef,bias\n",
    "\n",
    "print(f'Accuracy score is {model.score(test_x,test_y)*100:.2f}')\n",
    "\n",
    "print(f'Coefficients or m or slops used is {model.coef_}') #as value of slop is positive angle with x axis is less than 90\n",
    "\n",
    "print(f'Bias or  intercept or is {model.intercept_:.2f}')"
   ]
  },
  {
   "cell_type": "code",
   "execution_count": 181,
   "metadata": {},
   "outputs": [
    {
     "data": {
      "text/plain": [
       "'\\nWhen data follows linearity we apply linear regressio when it follows non linearity we apply polynomial regression\\n\\npolynomial regression is extension of linear regression in whihc it is permitted to and polynomials in line eq\\ne. in linear reg y=w1x1+w1x2^2 is not possible but in poly, it is possible\\n\\ntherefore line or hyperplane equation of polynomial regression is written as  y=b+w1x1+w2x2^2+w3x3^3+.........+wnxn^n\\n\\nIn polynomial there are two types binomial and multinomial basically same as simple and multi linear regression , in binomail\\nline eqution exist only till 2nd power and in multinomial equation exists till power ofn\\n\\nif lin reg is used on poly data model will not learn properly becuase of errors\\n'"
      ]
     },
     "execution_count": 181,
     "metadata": {},
     "output_type": "execute_result"
    }
   ],
   "source": [
    "#polynomial regression\n",
    "\n",
    "\"\"\"\n",
    "When data follows linearity we apply linear regressio when it follows non linearity we apply polynomial regression\n",
    "\n",
    "polynomial regression is extension of linear regression in whihc it is permitted to and polynomials in line eq\n",
    "e. in linear reg y=w1x1+w1x2^2 is not possible but in poly, it is possible\n",
    "\n",
    "therefore line or hyperplane equation of polynomial regression is written as  y=b+w1x1+w2x2^2+w3x3^3+.........+wnxn^n\n",
    "\n",
    "In polynomial there are two types binomial and multinomial basically same as simple and multi linear regression , in binomail\n",
    "line eqution exist only till 2nd power and in multinomial equation exists till power ofn\n",
    "\n",
    "if lin reg is used on poly data model will not learn properly becuase of errors\n",
    "\"\"\""
   ]
  },
  {
   "cell_type": "code",
   "execution_count": 182,
   "id": "c9a7681f",
   "metadata": {},
   "outputs": [],
   "source": [
    "data = {\n",
    "    \"x\": [1, 2, 3, 4, 5, 6, 7, 8, 9, 10, \n",
    "          11, 12, 13, 14, 15, 16, 17, 18, 19, 20,\n",
    "          21, 22, 23, 24, 25, 26, 27, 28, 29, 30],\n",
    "    \n",
    "    \"y\": [10, 22, 39, 65, 92, 123, 167, 204, 256, 310,\n",
    "          375, 440, 510, 580, 662, 745, 838, 935, 1030, 1136,\n",
    "          1250, 1365, 1488, 1610, 1745, 1882, 2025, 2171, 2320, 2478]\n",
    "}\n",
    "df=pd.DataFrame(data)"
   ]
  },
  {
   "cell_type": "code",
   "execution_count": 183,
   "id": "78524368",
   "metadata": {},
   "outputs": [
    {
     "data": {
      "text/plain": [
       "<matplotlib.collections.PathCollection at 0x20e109549d0>"
      ]
     },
     "execution_count": 183,
     "metadata": {},
     "output_type": "execute_result"
    },
    {
     "data": {
      "image/png": "[encoded data removed]",
      "text/plain": [
       "<Figure size 640x480 with 1 Axes>"
      ]
     },
     "metadata": {},
     "output_type": "display_data"
    }
   ],
   "source": [
    "plt.scatter(df['x'],df['y']) #as you can see daata is not linear its more exponential"
   ]
  },
  {
   "cell_type": "code",
   "execution_count": 184,
   "id": "42a40d1c",
   "metadata": {},
   "outputs": [
    {
     "data": {
      "text/plain": [
       "array([837.1332615])"
      ]
     },
     "execution_count": 184,
     "metadata": {},
     "output_type": "execute_result"
    }
   ],
   "source": [
    "from sklearn.linear_model import LinearRegression\n",
    "from sklearn.model_selection import train_test_split\n",
    "from sklearn.preprocessing import PolynomialFeatures\n",
    "\n",
    "x=df.iloc[:, :-1]\n",
    "y=df['y']\n",
    "\n",
    "pf=PolynomialFeatures(degree=2)#degree is 2 means the indication of till what degree the line equation is generated deg=2 means till x^2\n",
    "\n",
    "x=pf.fit_transform(x) #change our data in degree of 2 for our line quation and reassigning it to our original dataframe x\n",
    "\n",
    "\n",
    "trainx,testx,trainy,testy=train_test_split(x,y,test_size=0.25,random_state=13)\n",
    "\n",
    "model=LinearRegression()\n",
    "\n",
    "model.fit(trainx,trainy)\n",
    "\n",
    "# predict_y=pd.DataFrame({'x':[17]}) this wont give results as 17 is not converted to polynomial\n",
    "\n",
    "pred=pf.fit_transform([[17]]) #now this will run you can do the same with dataframe after converting it to ploynimal function\n",
    "model.predict(pred)\n",
    "\n"
   ]
  },
  {
   "cell_type": "code",
   "execution_count": 185,
   "id": "2ba2f775",
   "metadata": {},
   "outputs": [
    {
     "name": "stdout",
     "output_type": "stream",
     "text": [
      "Accuracy score is 100.00\n",
      "Coefficients or m or slops used is [0.         5.59198037 2.56572348]\n",
      "Bias or  intercept or is 0.58\n"
     ]
    }
   ],
   "source": [
    "#Accuracy score ,coef,bias\n",
    "\n",
    "print(f'Accuracy score is {model.score(testx,testy)*100:.2f}')\n",
    "\n",
    "print(f'Coefficients or m or slops used is {model.coef_}') #as value of slop is positive angle with x axis is less than 90\n",
    "\n",
    "print(f'Bias or  intercept or is {model.intercept_:.2f}')"
   ]
  },
  {
   "cell_type": "code",
   "execution_count": 186,
   "id": "ccac31ca",
   "metadata": {},
   "outputs": [
    {
     "data": {
      "text/plain": [
       "[<matplotlib.lines.Line2D at 0x20e109ad950>]"
      ]
     },
     "execution_count": 186,
     "metadata": {},
     "output_type": "execute_result"
    },
    {
     "data": {
      "image/png": "[encoded data removed]",
      "text/plain": [
       "<Figure size 640x480 with 1 Axes>"
      ]
     },
     "metadata": {},
     "output_type": "display_data"
    }
   ],
   "source": [
    "prd=model.predict(x) #as the scatter plot is of all the data we are infering the line for all x\n",
    "plt.scatter(df['x'],df['y'],alpha=0.7) \n",
    "plt.plot(df['x'],prd,color='red')#our line"
   ]
  },
  {
   "cell_type": "code",
   "execution_count": 187,
   "id": "cd3b83c6",
   "metadata": {},
   "outputs": [
    {
     "data": {
      "text/plain": [
       "\"\\nCost function\\n\\nA cost function is a mathematical function that quantifies the \\ntotal error between the predicted outputs of a model and the \\nactual outputs (ground truth) over the entire dataset.\\nA loss function does the same but for a single data point \\n(or a single training example).\\nTherefore, the cost function is the average (or sum) \\nof all loss function values across the dataset.\\n\\nWhy Do We Need a Cost Function?\\nBecause during training, the model doesn't automatically know how wrong it is.\\nWe need a way to:\\n                  Measure how bad predictions are.\\n                  Use that measure to adjust parameters (weights, biases) to improve predictions.\\n\\nIn Linear Regression, the model iteratively adjusts the parameters (slope and intercept) \\nto fit the best possible line that minimizes the cost function (typically Mean Squared Error, MSE).\\nHaving minimum value of cost fuction is the goal\\n\\n\\nTypes of cost functions: 1.Regresssion Cost Function: Mean Square Error (MSE)\\n                                                      Root Mean Square Error (RMSE)  }Explained earlier\\n                                                      Mean Absolute Error (MAE)\\n                                                      R^2 accuraccy (Technically not a cost function, but an evaluation metric)\\n                                                      \\n                                                        R2=1-(ssres/sstot)  ... ssres(Residual Sum of Squares)=sum((actual valuei-predictedvaluei)^2)\\n                                                                                sstot(Total Sum of Squares)=sum((actualvaluei-actualvaluemean)^2)\\n                                                                                \\n                                                        if R2 is close to or even 1 then perfect prediction, =0 then model is just predicting avaerage value of actaul variables less \\n                                                        than zeros then model is worse than mean prediction\\n\\n                         2.Classification Cost Function: Binary classification cost function (Used when there are only two classes (e.g., Spam or Not Spam, 0 or 1)                                                        \\n                                                         Multiclass classification cost function (Used when there are multiple classes to bifergate into (cat,dog,mouse etc))\\n\\n\\n\\n| Metric   | Measures                      | Sensitivity      | Unit                  |\\n| -------- | ----------------------------- | ---------------- | --------------------- |\\n| **MSE**  | Average of squared errors     | High to outliers | Squared unit          |\\n| **RMSE** | Square root of MSE            | High to outliers | Same as target        |\\n| **MAE**  | Average of absolute errors    | Low to outliers  | Same as target        |\\n| **R²**   | % variance explained by model | No units         | Range: $-\\\\infty$ to 1 |\\n\\n\\n\""
      ]
     },
     "execution_count": 187,
     "metadata": {},
     "output_type": "execute_result"
    }
   ],
   "source": [
    "\"\"\"\n",
    "Cost function\n",
    "\n",
    "A cost function is a mathematical function that quantifies the \n",
    "total error between the predicted outputs of a model and the \n",
    "actual outputs (ground truth) over the entire dataset.\n",
    "A loss function does the same but for a single data point \n",
    "(or a single training example).\n",
    "Therefore, the cost function is the average (or sum) \n",
    "of all loss function values across the dataset.\n",
    "\n",
    "Why Do We Need a Cost Function?\n",
    "Because during training, the model doesn't automatically know how wrong it is.\n",
    "We need a way to:\n",
    "                  Measure how bad predictions are.\n",
    "                  Use that measure to adjust parameters (weights, biases) to improve predictions.\n",
    "\n",
    "In Linear Regression, the model iteratively adjusts the parameters (slope and intercept) \n",
    "to fit the best possible line that minimizes the cost function (typically Mean Squared Error, MSE).\n",
    "Having minimum value of cost fuction is the goal\n",
    "\n",
    "\n",
    "Types of cost functions: 1.Regresssion Cost Function: Mean Square Error (MSE)\n",
    "                                                      Root Mean Square Error (RMSE)  }Explained earlier\n",
    "                                                      Mean Absolute Error (MAE)\n",
    "                                                      R^2 accuraccy (Technically not a cost function, but an evaluation metric)\n",
    "                                                      \n",
    "                                                        R2=1-(ssres/sstot)  ... ssres(Residual Sum of Squares)=sum((actual valuei-predictedvaluei)^2)\n",
    "                                                                                sstot(Total Sum of Squares)=sum((actualvaluei-actualvaluemean)^2)\n",
    "                                                                                \n",
    "                                                        if R2 is close to or even 1 then perfect prediction, =0 then model is just predicting avaerage value of actaul variables less \n",
    "                                                        than zeros then model is worse than mean prediction\n",
    "\n",
    "                         2.Classification Cost Function: Binary classification cost function (Used when there are only two classes (e.g., Spam or Not Spam, 0 or 1)                                                        \n",
    "                                                         Multiclass classification cost function (Used when there are multiple classes to bifergate into (cat,dog,mouse etc))\n",
    "\n",
    "\n",
    "\n",
    "| Metric   | Measures                      | Sensitivity      | Unit                  |\n",
    "| -------- | ----------------------------- | ---------------- | --------------------- |\n",
    "| **MSE**  | Average of squared errors     | High to outliers | Squared unit          |\n",
    "| **RMSE** | Square root of MSE            | High to outliers | Same as target        |\n",
    "| **MAE**  | Average of absolute errors    | Low to outliers  | Same as target        |\n",
    "| **R²**   | % variance explained by model | No units         | Range: $-\\infty$ to 1 |\n",
    "\n",
    "\n",
    "\"\"\""
   ]
  },
  {
   "cell_type": "code",
   "execution_count": 188,
   "id": "1f87add5",
   "metadata": {},
   "outputs": [
    {
     "name": "stdout",
     "output_type": "stream",
     "text": [
      "\n",
      "Scikit-learn Verification:\n",
      "MSE  = 6.0\n",
      "RMSE = 2.449489742783178\n",
      "MAE  = 2.4\n",
      "R²   = 0.97\n"
     ]
    }
   ],
   "source": [
    "from sklearn.metrics import mean_squared_error, mean_absolute_error, r2_score\n",
    "from math import sqrt\n",
    "\n",
    "\n",
    "actual = [10, 20, 30, 40, 50]\n",
    "predicted = [12, 18, 33, 37, 52]\n",
    "\n",
    "\n",
    "# Sklearn calculations\n",
    "mse_sklearn = mean_squared_error(actual, predicted)\n",
    "rmse_sklearn = sqrt(mse_sklearn)\n",
    "mae_sklearn = mean_absolute_error(actual, predicted)\n",
    "r2_sklearn = r2_score(actual, predicted)\n",
    "\n",
    "print(f\"\\nScikit-learn Verification:\")\n",
    "print(f\"MSE  = {mse_sklearn}\")\n",
    "print(f\"RMSE = {rmse_sklearn}\")\n",
    "print(f\"MAE  = {mae_sklearn}\")\n",
    "print(f\"R²   = {r2_sklearn}\")\n"
   ]
  },
  {
   "cell_type": "code",
   "execution_count": 189,
   "id": "0c3b3abc",
   "metadata": {},
   "outputs": [
    {
     "data": {
      "text/plain": [
       "'\\nAlright Kedar, let\\'s go **deep and precise** into **Regularization** – especially **L1 (Lasso)** and **L2 (Ridge)**, with clear explanations, math, intuition, use cases, and code examples.\\n\\n---\\n\\n# 🔧 What is Regularization?\\n\\nRegularization is a technique used to **prevent overfitting** in machine learning models by **adding a penalty** to the loss function.\\n\\n### ✅ Why Overfitting Happens:\\n\\n* The model learns noise instead of signal.\\n* High variance → performs well on training but poorly on testing.\\n\\n---\\n\\n# 📌 Regularization: The Concept\\n\\nIn normal linear regression, the **loss function** is:\\n\\n$$\\n\\text{Loss} = \\text{MSE} = \\x0crac{1}{n} \\\\sum_{i=1}^{n} (y_i - \\\\hat{y}_i)^2\\n$$\\n\\n**Regularization adds a penalty** term to this loss:\\n\\n---\\n\\n## 🔹 1. **L1 Regularization (Lasso Regression)**\\n\\n### 🧠 What it does:\\n\\n* Adds **absolute values** of coefficients as penalty.\\n* Encourages **sparsity**: sets some coefficients **exactly to 0**.\\n* Great for **feature selection**.\\n\\n### 🔸 Formula:\\n\\n$$\\n\\text{Loss}_{\\text{Lasso}} = \\x0crac{1}{n} \\\\sum_{i=1}^{n}(y_i - \\\\hat{y}_i)^2 + \\\\lambda \\\\sum_{j=1}^{p} |w_j|\\n$$\\n\\n* $\\\\lambda$: regularization strength (hyperparameter)\\n* $w_j$: weight (coefficient) of feature $j$\\n* Higher $\\\\lambda$ → more coefficients shrink to 0\\n\\n---\\n\\n## 🔹 2. **L2 Regularization (Ridge Regression)**\\n\\n### 🧠 What it does:\\n\\n* Adds **squared values** of coefficients as penalty.\\n* Shrinks coefficients, but **does not make them 0**\\n* Useful when **all features are important**\\n\\n### 🔸 Formula:\\n\\n$$\\n\\text{Loss}_{\\text{Ridge}} = \\x0crac{1}{n} \\\\sum_{i=1}^{n}(y_i - \\\\hat{y}_i)^2 + \\\\lambda \\\\sum_{j=1}^{p} w_j^2\\n$$\\n\\n---\\n\\n# 📊 When to Use Which?\\n\\n| Property               | L1 (Lasso)        | L2 (Ridge)        |\\n| ---------------------- | ----------------- | ----------------- |\\n| Penalty Type           | Absolute          | Squared           |\\n| Feature Elimination    | Yes (sparse)      | No (all retained) |\\n| Use Case               | Feature selection | Multicollinearity |\\n| Coefficients shrink to | Zero              | Small values      |\\n\\n---\\n\\n# 🔍 Code Example (with visualization)\\n\\nWe’ll use a dataset with **redundant features** to see how L1 eliminates them.\\n\\n### 📦 Import libraries\\n\\n```python\\nimport numpy as np\\nimport matplotlib.pyplot as plt\\nfrom sklearn.linear_model import Lasso, Ridge, LinearRegression\\nfrom sklearn.metrics import mean_squared_error\\nfrom sklearn.model_selection import train_test_split\\n```\\n\\n---\\n\\n### 📐 Create synthetic data\\n\\n```python\\n# Create a dataset with 1 informative and 4 redundant features\\nnp.random.seed(42)\\nn_samples = 100\\nX = np.random.randn(n_samples, 5)\\n# Only the first feature affects y\\ntrue_weights = np.array([5, 0, 0, 0, 0])\\ny = X @ true_weights + np.random.randn(n_samples) * 0.5\\n```\\n\\n---\\n\\n### 🧪 Train-Test Split\\n\\n```python\\nX_train, X_test, y_train, y_test = train_test_split(X, y, test_size=0.2, random_state=42)\\n```\\n\\n---\\n\\n### 🔁 Train Models: Linear, Ridge, Lasso\\n\\n```python\\nlin = LinearRegression()\\nridge = Ridge(alpha=1.0)\\nlasso = Lasso(alpha=0.1)\\n\\nlin.fit(X_train, y_train)\\nridge.fit(X_train, y_train)\\nlasso.fit(X_train, y_train)\\n```\\n\\n---\\n\\n### 📊 Compare Results\\n\\n```python\\nprint(\"Linear Coefficients:\", lin.coef_)\\nprint(\"Ridge Coefficients: \", ridge.coef_)\\nprint(\"Lasso Coefficients: \", lasso.coef_)\\n\\nprint(\"\\nMSE:\")\\nprint(\"Linear:\", mean_squared_error(y_test, lin.predict(X_test)))\\nprint(\"Ridge: \", mean_squared_error(y_test, ridge.predict(X_test)))\\nprint(\"Lasso: \", mean_squared_error(y_test, lasso.predict(X_test)))\\n```\\n\\n---\\n\\n### 📈 Plot Coefficients\\n\\n```python\\nlabels = [\\'Feature 1\\', \\'Feature 2\\', \\'Feature 3\\', \\'Feature 4\\', \\'Feature 5\\']\\nplt.figure(figsize=(10,6))\\nplt.plot(lin.coef_, label=\\'Linear\\', marker=\\'o\\')\\nplt.plot(ridge.coef_, label=\\'Ridge\\', marker=\\'s\\')\\nplt.plot(lasso.coef_, label=\\'Lasso\\', marker=\\'^\\')\\nplt.xticks(ticks=range(5), labels=labels)\\nplt.title(\\'Comparison of Coefficients\\')\\nplt.legend()\\nplt.grid(True)\\nplt.show()\\n```\\n\\n---\\n\\n# 🔚 Summary\\n\\n| Model  | Regularization | Coefficients Behavior     | Best For                   |\\n| ------ | -------------- | ------------------------- | -------------------------- |\\n| Linear | None           | All based on data         | Basic regression           |\\n| Ridge  | L2             | Shrinks all (no zeros)    | Multicollinearity handling |\\n| Lasso  | L1             | Some become **exactly 0** | Feature selection (sparse) |\\n\\n---\\n\\nLet me know if you want:\\n\\n* ElasticNet (combines L1 + L2)\\n* Polynomial features + regularization\\n* Grid search over alpha values (λ)\\n* Real dataset (like Boston housing, Diabetes, etc.)\\n\\n'"
      ]
     },
     "execution_count": 189,
     "metadata": {},
     "output_type": "execute_result"
    }
   ],
   "source": [
    "#Regularization\n",
    "\n",
    "\"\"\"\n",
    "Alright Kedar, let's go **deep and precise** into **Regularization** – especially **L1 (Lasso)** and **L2 (Ridge)**, with clear explanations, math, intuition, use cases, and code examples.\n",
    "\n",
    "---\n",
    "\n",
    "# 🔧 What is Regularization?\n",
    "\n",
    "Regularization is a technique used to **prevent overfitting** in machine learning models by **adding a penalty** to the loss function.\n",
    "\n",
    "### ✅ Why Overfitting Happens:\n",
    "\n",
    "* The model learns noise instead of signal.\n",
    "* High variance → performs well on training but poorly on testing.\n",
    "\n",
    "---\n",
    "\n",
    "# 📌 Regularization: The Concept\n",
    "\n",
    "In normal linear regression, the **loss function** is:\n",
    "\n",
    "$$\n",
    "\\text{Loss} = \\text{MSE} = \\frac{1}{n} \\sum_{i=1}^{n} (y_i - \\hat{y}_i)^2\n",
    "$$\n",
    "\n",
    "**Regularization adds a penalty** term to this loss:\n",
    "\n",
    "---\n",
    "\n",
    "## 🔹 1. **L1 Regularization (Lasso Regression)**\n",
    "\n",
    "### 🧠 What it does:\n",
    "\n",
    "* Adds **absolute values** of coefficients as penalty.\n",
    "* Encourages **sparsity**: sets some coefficients **exactly to 0**.\n",
    "* Great for **feature selection**.\n",
    "\n",
    "### 🔸 Formula:\n",
    "\n",
    "$$\n",
    "\\text{Loss}_{\\text{Lasso}} = \\frac{1}{n} \\sum_{i=1}^{n}(y_i - \\hat{y}_i)^2 + \\lambda \\sum_{j=1}^{p} |w_j|\n",
    "$$\n",
    "\n",
    "* $\\lambda$: regularization strength (hyperparameter)\n",
    "* $w_j$: weight (coefficient) of feature $j$\n",
    "* Higher $\\lambda$ → more coefficients shrink to 0\n",
    "\n",
    "---\n",
    "\n",
    "## 🔹 2. **L2 Regularization (Ridge Regression)**\n",
    "\n",
    "### 🧠 What it does:\n",
    "\n",
    "* Adds **squared values** of coefficients as penalty.\n",
    "* Shrinks coefficients, but **does not make them 0**\n",
    "* Useful when **all features are important**\n",
    "\n",
    "### 🔸 Formula:\n",
    "\n",
    "$$\n",
    "\\text{Loss}_{\\text{Ridge}} = \\frac{1}{n} \\sum_{i=1}^{n}(y_i - \\hat{y}_i)^2 + \\lambda \\sum_{j=1}^{p} w_j^2\n",
    "$$\n",
    "\n",
    "---\n",
    "\n",
    "# 📊 When to Use Which?\n",
    "\n",
    "| Property               | L1 (Lasso)        | L2 (Ridge)        |\n",
    "| ---------------------- | ----------------- | ----------------- |\n",
    "| Penalty Type           | Absolute          | Squared           |\n",
    "| Feature Elimination    | Yes (sparse)      | No (all retained) |\n",
    "| Use Case               | Feature selection | Multicollinearity |\n",
    "| Coefficients shrink to | Zero              | Small values      |\n",
    "\n",
    "---\n",
    "\n",
    "# 🔍 Code Example (with visualization)\n",
    "\n",
    "We’ll use a dataset with **redundant features** to see how L1 eliminates them.\n",
    "\n",
    "### 📦 Import libraries\n",
    "\n",
    "```python\n",
    "import numpy as np\n",
    "import matplotlib.pyplot as plt\n",
    "from sklearn.linear_model import Lasso, Ridge, LinearRegression\n",
    "from sklearn.metrics import mean_squared_error\n",
    "from sklearn.model_selection import train_test_split\n",
    "```\n",
    "\n",
    "---\n",
    "\n",
    "### 📐 Create synthetic data\n",
    "\n",
    "```python\n",
    "# Create a dataset with 1 informative and 4 redundant features\n",
    "np.random.seed(42)\n",
    "n_samples = 100\n",
    "X = np.random.randn(n_samples, 5)\n",
    "# Only the first feature affects y\n",
    "true_weights = np.array([5, 0, 0, 0, 0])\n",
    "y = X @ true_weights + np.random.randn(n_samples) * 0.5\n",
    "```\n",
    "\n",
    "---\n",
    "\n",
    "### 🧪 Train-Test Split\n",
    "\n",
    "```python\n",
    "X_train, X_test, y_train, y_test = train_test_split(X, y, test_size=0.2, random_state=42)\n",
    "```\n",
    "\n",
    "---\n",
    "\n",
    "### 🔁 Train Models: Linear, Ridge, Lasso\n",
    "\n",
    "```python\n",
    "lin = LinearRegression()\n",
    "ridge = Ridge(alpha=1.0)\n",
    "lasso = Lasso(alpha=0.1)\n",
    "\n",
    "lin.fit(X_train, y_train)\n",
    "ridge.fit(X_train, y_train)\n",
    "lasso.fit(X_train, y_train)\n",
    "```\n",
    "\n",
    "---\n",
    "\n",
    "### 📊 Compare Results\n",
    "\n",
    "```python\n",
    "print(\"Linear Coefficients:\", lin.coef_)\n",
    "print(\"Ridge Coefficients: \", ridge.coef_)\n",
    "print(\"Lasso Coefficients: \", lasso.coef_)\n",
    "\n",
    "print(\"\\nMSE:\")\n",
    "print(\"Linear:\", mean_squared_error(y_test, lin.predict(X_test)))\n",
    "print(\"Ridge: \", mean_squared_error(y_test, ridge.predict(X_test)))\n",
    "print(\"Lasso: \", mean_squared_error(y_test, lasso.predict(X_test)))\n",
    "```\n",
    "\n",
    "---\n",
    "\n",
    "### 📈 Plot Coefficients\n",
    "\n",
    "```python\n",
    "labels = ['Feature 1', 'Feature 2', 'Feature 3', 'Feature 4', 'Feature 5']\n",
    "plt.figure(figsize=(10,6))\n",
    "plt.plot(lin.coef_, label='Linear', marker='o')\n",
    "plt.plot(ridge.coef_, label='Ridge', marker='s')\n",
    "plt.plot(lasso.coef_, label='Lasso', marker='^')\n",
    "plt.xticks(ticks=range(5), labels=labels)\n",
    "plt.title('Comparison of Coefficients')\n",
    "plt.legend()\n",
    "plt.grid(True)\n",
    "plt.show()\n",
    "```\n",
    "\n",
    "---\n",
    "\n",
    "# 🔚 Summary\n",
    "\n",
    "| Model  | Regularization | Coefficients Behavior     | Best For                   |\n",
    "| ------ | -------------- | ------------------------- | -------------------------- |\n",
    "| Linear | None           | All based on data         | Basic regression           |\n",
    "| Ridge  | L2             | Shrinks all (no zeros)    | Multicollinearity handling |\n",
    "| Lasso  | L1             | Some become **exactly 0** | Feature selection (sparse) |\n",
    "\n",
    "---\n",
    "\n",
    "Let me know if you want:\n",
    "\n",
    "* ElasticNet (combines L1 + L2)\n",
    "* Polynomial features + regularization\n",
    "* Grid search over alpha values (λ)\n",
    "* Real dataset (like Boston housing, Diabetes, etc.)\n",
    "\n",
    "\"\"\""
   ]
  },
  {
   "cell_type": "markdown",
   "id": "c64b9d83",
   "metadata": {},
   "source": [
    "# **Classification analysis**"
   ]
  },
  {
   "cell_type": "code",
   "execution_count": 190,
   "id": "cdf42789",
   "metadata": {},
   "outputs": [
    {
     "data": {
      "text/plain": [
       "'\\nClassification Analysis is a supervised learning technique\\nwhere the goal is to assign input data points into one of \\ntwo or more predefined categories (classes) based on training data.\\n\\nInput features can be numerical or categorical but the outout feature has to be categorical\\n\\n| Aspect                 | Classification Task                          |\\n| ---------------------- | -------------------------------------------- |\\n| **Input Features (X)** | **Can be numerical, categorical, or mixed**  |\\n| **Target (Y / Label)** | **Must be categorical** (i.e., class labels) |\\n\\nTypes of classification: 1.Binary classifier: if classification problem has only two possible outcomes then it is called binary classifier\\n                            E.g Yes or No\\n                         2. Multiclass classifier: If a classification problem has more than two outcomes then it is multiclass classification\\n                            E.g Cat Dog Cow\\n\\nType of classification models: 1.Linear model(those who take linear data):Logistic regression, SVM\\n                               2. Non linear model:Those who take non linear data KNN, SVM,Naivebayes,Decision tree,random forest\\n                               \\n                               Only naive bayes and logistic regression work on only classification rest also can work on regression too because they have kernals that support that\\n                               \\nevaluation of classification model: Log loss or cross entropy loss\\n\\n                                        Entropy is the amount of \"uncertainty\" or \"information\" in a distribution.\\n                                        H(s)=-(plog(p)+qlogq)\\n                                        where s is the total probability p is the probability of first variable and q is of second variable there can be many other variabls too\\n                                        \"The entropy of a probability distribution is always ≥ 0. It reaches 0 when there is no uncertainty (i.e., the outcome is certain).\\n                                        For a binary variable, the maximum entropy is 1 bit, which occurs when both outcomes are equally likely (p = 0.5).\"\\n                                        \\n                                        Cross-entropy loss measures the distance between two probability distributions \\n                                        — the true labels and the predicted probabilities. It penalizes false predictions\\n                                        more harshly when the model is confident but wrong.\\n                                        \\n                                        true label [y]: y can be 0 or 1\\n                                        predicted label again caN BE 0 OR 1  [yp] = (its not cumposulsory to have only 2 vars there can be many)\\n                                        \\n                                        Binary Cross-Entropy Loss for two labels= -[ylog(yp)+(1-y)log(1-yp)]\\n                                        for n label same but summation of all divide by n\\n                                        0 if prediction is perfect and infinity when wrong\\n\\n                                    confusion matrix:most imp\\n\\n                                            A confusion matrix is a performance measurement tool for classification problems (binary or multiclass).\\n                                            It summarizes how well the classification model performs by showing actual vs predicted values.\\n                                            \\n                                            CM for binary classification\\n                                            |                         | **Predicted Positive (1)** | **Predicted Negative (0)** |\\n                                            | ----------------------- | -------------------------- | -------------------------- |\\n                                            | **Actual Positive (1)** | True Positive (TP)         | False Negative (FN)        |\\n                                            | **Actual Negative (0)** | False Positive (FP)        | True Negative (TN)         |\\n\\n                                            | Term   | Meaning                                                                            |\\n                                            | ------ | ---------------------------------------------------------------------------------- |\\n                                            | **TP** | Model predicted **positive**, and it was **actually positive**                     |\\n                                            | **TN** | Model predicted **negative**, and it was **actually negative**                     |\\n                                            | **FP** | Model predicted **positive**, but it was **actually negative** (**Type I error**)  |\\n                                            | **FN** | Model predicted **negative**, but it was **actually positive** (**Type II error**) |\\n                                            \\n                                            Accuracy(Overall how often is the classifier correct?\\n                                            =TP+TN/All\\n                                            \\n                                            Precision(Of all predicted positives, how many were correct?\\n                                            =TP/TP+FP\\n                                            \\n                                            Recall/sensitivity/true positive rate(Of all actual positives, how many were correctly predicted?)\\n                                            =TP/TP+FN\\n                                            \\n                                            F1 score(mean of Precision and Recall)\\n                                            = 2(Precision.recall/preciision+recall)\\n                                            \\n                                            CM for multicalss\\n                                            |              | Pred A | Pred B | Pred C |\\n                                            | ------------ | ------ | ------ | ------ |\\n                                            | **Actual A** | 30     | 2      | 3      |\\n                                            | **Actual B** | 5      | 25     | 1      |\\n                                            | **Actual C** | 4      | 3      | 28     |\\n                                                                                \\n                                    AUC-ROC curve   \\n                                    \\n                                        Area Under the Curve - Receiver Operating Characteristic Curve   \\n                                        \\n                                        ROC computer confusion matric for each data row basically\\n                                        computer TPR (True positive Rate)= TP/TP+TN\\n                                                 FPR (False positive Rate)=FP/FP+FN\\n                                                 \\n                                        ROC curve is bsicalyl a plot graph of TFR and FPR to Measures the overall ability \\n                                        of the classifier to discriminate between positive and negative classes.\\n                                        \\n                                        | AUC Value | Interpretation                        |\\n                                        | --------- | ------------------------------------- |\\n                                        | 1.0       | Perfect classifier                    |\\n                                        | 0.9–0.99  | Excellent                             |\\n                                        | 0.8–0.9   | Very good                             |\\n                                        | 0.7–0.8   | Fair                                  |\\n                                        | 0.6–0.7   | Poor                                  |\\n                                        | 0.5       | Useless (no better than random guess) |\\n                                        | < 0.5     | Inverse prediction (wrong labels!)    |\\n\\n                                                    \\n'"
      ]
     },
     "execution_count": 190,
     "metadata": {},
     "output_type": "execute_result"
    }
   ],
   "source": [
    "\"\"\"\n",
    "Classification Analysis is a supervised learning technique\n",
    "where the goal is to assign input data points into one of \n",
    "two or more predefined categories (classes) based on training data.\n",
    "\n",
    "Input features can be numerical or categorical but the outout feature has to be categorical\n",
    "\n",
    "| Aspect                 | Classification Task                          |\n",
    "| ---------------------- | -------------------------------------------- |\n",
    "| **Input Features (X)** | **Can be numerical, categorical, or mixed**  |\n",
    "| **Target (Y / Label)** | **Must be categorical** (i.e., class labels) |\n",
    "\n",
    "Types of classification: 1.Binary classifier: if classification problem has only two possible outcomes then it is called binary classifier\n",
    "                            E.g Yes or No\n",
    "                         2. Multiclass classifier: If a classification problem has more than two outcomes then it is multiclass classification\n",
    "                            E.g Cat Dog Cow\n",
    "\n",
    "Type of classification models: 1.Linear model(those who take linear data):Logistic regression, SVM\n",
    "                               2. Non linear model:Those who take non linear data KNN, SVM,Naivebayes,Decision tree,random forest\n",
    "                               \n",
    "                               Only naive bayes and logistic regression work on only classification rest also can work on regression too because they have kernals that support that\n",
    "                               \n",
    "evaluation of classification model: Log loss or cross entropy loss\n",
    "\n",
    "                                        Entropy is the amount of \"uncertainty\" or \"information\" in a distribution.\n",
    "                                        H(s)=-(plog(p)+qlogq)\n",
    "                                        where s is the total probability p is the probability of first variable and q is of second variable there can be many other variabls too\n",
    "                                        \"The entropy of a probability distribution is always ≥ 0. It reaches 0 when there is no uncertainty (i.e., the outcome is certain).\n",
    "                                        For a binary variable, the maximum entropy is 1 bit, which occurs when both outcomes are equally likely (p = 0.5).\"\n",
    "                                        \n",
    "                                        Cross-entropy loss measures the distance between two probability distributions \n",
    "                                        — the true labels and the predicted probabilities. It penalizes false predictions\n",
    "                                        more harshly when the model is confident but wrong.\n",
    "                                        \n",
    "                                        true label [y]: y can be 0 or 1\n",
    "                                        predicted label again caN BE 0 OR 1  [yp] = (its not cumposulsory to have only 2 vars there can be many)\n",
    "                                        \n",
    "                                        Binary Cross-Entropy Loss for two labels= -[ylog(yp)+(1-y)log(1-yp)]\n",
    "                                        for n label same but summation of all divide by n\n",
    "                                        0 if prediction is perfect and infinity when wrong\n",
    "\n",
    "                                    confusion matrix:most imp\n",
    "\n",
    "                                            A confusion matrix is a performance measurement tool for classification problems (binary or multiclass).\n",
    "                                            It summarizes how well the classification model performs by showing actual vs predicted values.\n",
    "                                            \n",
    "                                            CM for binary classification\n",
    "                                            |                         | **Predicted Positive (1)** | **Predicted Negative (0)** |\n",
    "                                            | ----------------------- | -------------------------- | -------------------------- |\n",
    "                                            | **Actual Positive (1)** | True Positive (TP)         | False Negative (FN)        |\n",
    "                                            | **Actual Negative (0)** | False Positive (FP)        | True Negative (TN)         |\n",
    "\n",
    "                                            | Term   | Meaning                                                                            |\n",
    "                                            | ------ | ---------------------------------------------------------------------------------- |\n",
    "                                            | **TP** | Model predicted **positive**, and it was **actually positive**                     |\n",
    "                                            | **TN** | Model predicted **negative**, and it was **actually negative**                     |\n",
    "                                            | **FP** | Model predicted **positive**, but it was **actually negative** (**Type I error**)  |\n",
    "                                            | **FN** | Model predicted **negative**, but it was **actually positive** (**Type II error**) |\n",
    "                                            \n",
    "                                            Accuracy(Overall how often is the classifier correct?\n",
    "                                            =TP+TN/All\n",
    "                                            \n",
    "                                            Precision(Of all predicted positives, how many were correct?\n",
    "                                            =TP/TP+FP\n",
    "                                            \n",
    "                                            Recall/sensitivity/true positive rate(Of all actual positives, how many were correctly predicted?)\n",
    "                                            =TP/TP+FN\n",
    "                                            \n",
    "                                            F1 score(mean of Precision and Recall)\n",
    "                                            = 2(Precision.recall/preciision+recall)\n",
    "                                            \n",
    "                                            CM for multicalss\n",
    "                                            |              | Pred A | Pred B | Pred C |\n",
    "                                            | ------------ | ------ | ------ | ------ |\n",
    "                                            | **Actual A** | 30     | 2      | 3      |\n",
    "                                            | **Actual B** | 5      | 25     | 1      |\n",
    "                                            | **Actual C** | 4      | 3      | 28     |\n",
    "                                                                                \n",
    "                                    AUC-ROC curve   \n",
    "                                    \n",
    "                                        Area Under the Curve - Receiver Operating Characteristic Curve   \n",
    "                                        \n",
    "                                        ROC computer confusion matric for each data row basically\n",
    "                                        computer TPR (True positive Rate)= TP/TP+TN\n",
    "                                                 FPR (False positive Rate)=FP/FP+FN\n",
    "                                                 \n",
    "                                        ROC curve is bsicalyl a plot graph of TFR and FPR to Measures the overall ability \n",
    "                                        of the classifier to discriminate between positive and negative classes.\n",
    "                                        \n",
    "                                        | AUC Value | Interpretation                        |\n",
    "                                        | --------- | ------------------------------------- |\n",
    "                                        | 1.0       | Perfect classifier                    |\n",
    "                                        | 0.9–0.99  | Excellent                             |\n",
    "                                        | 0.8–0.9   | Very good                             |\n",
    "                                        | 0.7–0.8   | Fair                                  |\n",
    "                                        | 0.6–0.7   | Poor                                  |\n",
    "                                        | 0.5       | Useless (no better than random guess) |\n",
    "                                        | < 0.5     | Inverse prediction (wrong labels!)    |\n",
    "\n",
    "                                                    \n",
    "\"\"\""
   ]
  },
  {
   "cell_type": "code",
   "execution_count": 191,
   "id": "9f0bf8b9",
   "metadata": {},
   "outputs": [
    {
     "data": {
      "text/plain": [
       "'\\nLogistic regression:\\n\\nLogistic Regression is a supervised classification algorithm, \\nused when the dependent variable is categorical (not continuous). \\nDespite the name, it is used for classification, not regression.\\n\\nLogistic regression works on numerical features to predict a categorical output (class).\\nInput X → must be numeric\\nOutput Y → is categorical (binary or multiclass)\\n\\nIt estimates the probability that a given input belongs to a \\nparticular category (class) using the logistic (sigmoid) function.\\n\\nLinear regression outputs continuos values from inf to -inf and logistic regression outputs the probabilty(0 to 1) of that variable being in that class\\n\\n\"\\nRepresentation of inf in python\\n\\npositive_infinity = float(\\'inf\\')\\nnegative_infinity = float(\\'-inf\\')\\n\\n\"\\nLogistic regression works on sigmoid function\\n\\nsigmoid function(z)=1/1+e^-z\\n\\nwhere z is b+w1x1+w2x2+...wnxn\\nwi=learned coeficients(weights) They are automatically learned \\n                                by the model during the training\\n                                phase using an optimization algorithm \\n                                like gradient descent to minimize the \\n                                cost function (usually cross-entropy loss\\n                                in logistic regression).\\nx1=feature values \\nb=bias\\n\\nif probabilty of answ in less or equal to 0.5 thenn lass 1 if not then calss 2\\n\\n\\nType of logistic regression:\\n                            Logistic regression (bonomial):above\\n                            Logistic regression (multinonial):\\n                            \\n                                Multinomial logistic regression is used when the \\n                                target variable has more than 2 classes, and you want\\n                                to model the probability of each class directly.\\n                                E.g apple banana and grapes\\n\\n                                for each class from 0 to k-1, k(number of classes basically) compute\\n                                zk=bk+w1x1+w2x2+....+wnxn\\n                                \\n                                Compute probabilty of x input variable\\'s prediction y being of class k \\n                                \\n                                = e^zk/sum k-1 to j=0(e^zj)\\n\\n                                prediction = argmax(P(y=k|x))\\n\\n\\n'"
      ]
     },
     "execution_count": 191,
     "metadata": {},
     "output_type": "execute_result"
    }
   ],
   "source": [
    "\"\"\"\n",
    "Logistic regression:\n",
    "\n",
    "Logistic Regression is a supervised classification algorithm, \n",
    "used when the dependent variable is categorical (not continuous). \n",
    "Despite the name, it is used for classification, not regression.\n",
    "\n",
    "Logistic regression works on numerical features to predict a categorical output (class).\n",
    "Input X → must be numeric\n",
    "Output Y → is categorical (binary or multiclass)\n",
    "\n",
    "It estimates the probability that a given input belongs to a \n",
    "particular category (class) using the logistic (sigmoid) function.\n",
    "\n",
    "Linear regression outputs continuos values from inf to -inf and logistic regression outputs the probabilty(0 to 1) of that variable being in that class\n",
    "\n",
    "\"\n",
    "Representation of inf in python\n",
    "\n",
    "positive_infinity = float('inf')\n",
    "negative_infinity = float('-inf')\n",
    "\n",
    "\"\n",
    "Logistic regression works on sigmoid function\n",
    "\n",
    "sigmoid function(z)=1/1+e^-z\n",
    "\n",
    "where z is b+w1x1+w2x2+...wnxn\n",
    "wi=learned coeficients(weights) They are automatically learned \n",
    "                                by the model during the training\n",
    "                                phase using an optimization algorithm \n",
    "                                like gradient descent to minimize the \n",
    "                                cost function (usually cross-entropy loss\n",
    "                                in logistic regression).\n",
    "x1=feature values \n",
    "b=bias\n",
    "\n",
    "if probabilty of answ in less or equal to 0.5 thenn lass 1 if not then calss 2\n",
    "\n",
    "\n",
    "Type of logistic regression:\n",
    "                            Logistic regression (bonomial):above\n",
    "                            Logistic regression (multinonial):\n",
    "                            \n",
    "                                Multinomial logistic regression is used when the \n",
    "                                target variable has more than 2 classes, and you want\n",
    "                                to model the probability of each class directly.\n",
    "                                E.g apple banana and grapes\n",
    "\n",
    "                                for each class from 0 to k-1, k(number of classes basically) compute\n",
    "                                zk=bk+w1x1+w2x2+....+wnxn\n",
    "                                \n",
    "                                Compute probabilty of x input variable's prediction y being of class k \n",
    "                                \n",
    "                                = e^zk/sum k-1 to j=0(e^zj)\n",
    "\n",
    "                                prediction = argmax(P(y=k|x))\n",
    "\n",
    "\n",
    "\"\"\""
   ]
  },
  {
   "cell_type": "code",
   "execution_count": 192,
   "id": "fcab6946",
   "metadata": {},
   "outputs": [],
   "source": [
    "data = {\n",
    "    'Study_Hours': [2, 5, 7, 1, 8, 6, 3, 9, 4, 10],\n",
    "    'Attendance': [60, 85, 90, 55, 95, 80, 65, 98, 75, 100],\n",
    "    'Assignments_Submitted': [2, 6, 8, 1, 9, 7, 3, 10, 5, 10],\n",
    "    'Result': ['Fail', 'Pass', 'Pass', 'Fail', 'Pass', 'Pass', 'Fail', 'Pass', 'Pass', 'Pass']\n",
    "}\n",
    "df=pd.DataFrame(data)"
   ]
  },
  {
   "cell_type": "code",
   "execution_count": 193,
   "id": "315a0f22",
   "metadata": {},
   "outputs": [],
   "source": [
    "#Binomial logistic with one infut feature(column)"
   ]
  },
  {
   "cell_type": "code",
   "execution_count": 194,
   "id": "1e8c68b6",
   "metadata": {},
   "outputs": [
    {
     "data": {
      "text/html": [
       "<div>\n",
       "<style scoped>\n",
       "    .dataframe tbody tr th:only-of-type {\n",
       "        vertical-align: middle;\n",
       "    }\n",
       "\n",
       "    .dataframe tbody tr th {\n",
       "        vertical-align: top;\n",
       "    }\n",
       "\n",
       "    .dataframe thead th {\n",
       "        text-align: right;\n",
       "    }\n",
       "</style>\n",
       "<table border=\"1\" class=\"dataframe\">\n",
       "  <thead>\n",
       "    <tr style=\"text-align: right;\">\n",
       "      <th></th>\n",
       "      <th>Study_Hours</th>\n",
       "      <th>Result</th>\n",
       "    </tr>\n",
       "  </thead>\n",
       "  <tbody>\n",
       "    <tr>\n",
       "      <th>0</th>\n",
       "      <td>2</td>\n",
       "      <td>Fail</td>\n",
       "    </tr>\n",
       "    <tr>\n",
       "      <th>1</th>\n",
       "      <td>5</td>\n",
       "      <td>Pass</td>\n",
       "    </tr>\n",
       "    <tr>\n",
       "      <th>2</th>\n",
       "      <td>7</td>\n",
       "      <td>Pass</td>\n",
       "    </tr>\n",
       "    <tr>\n",
       "      <th>3</th>\n",
       "      <td>1</td>\n",
       "      <td>Fail</td>\n",
       "    </tr>\n",
       "    <tr>\n",
       "      <th>4</th>\n",
       "      <td>8</td>\n",
       "      <td>Pass</td>\n",
       "    </tr>\n",
       "    <tr>\n",
       "      <th>5</th>\n",
       "      <td>6</td>\n",
       "      <td>Pass</td>\n",
       "    </tr>\n",
       "    <tr>\n",
       "      <th>6</th>\n",
       "      <td>3</td>\n",
       "      <td>Fail</td>\n",
       "    </tr>\n",
       "    <tr>\n",
       "      <th>7</th>\n",
       "      <td>9</td>\n",
       "      <td>Pass</td>\n",
       "    </tr>\n",
       "    <tr>\n",
       "      <th>8</th>\n",
       "      <td>4</td>\n",
       "      <td>Pass</td>\n",
       "    </tr>\n",
       "    <tr>\n",
       "      <th>9</th>\n",
       "      <td>10</td>\n",
       "      <td>Pass</td>\n",
       "    </tr>\n",
       "  </tbody>\n",
       "</table>\n",
       "</div>"
      ],
      "text/plain": [
       "   Study_Hours Result\n",
       "0            2   Fail\n",
       "1            5   Pass\n",
       "2            7   Pass\n",
       "3            1   Fail\n",
       "4            8   Pass\n",
       "5            6   Pass\n",
       "6            3   Fail\n",
       "7            9   Pass\n",
       "8            4   Pass\n",
       "9           10   Pass"
      ]
     },
     "execution_count": 194,
     "metadata": {},
     "output_type": "execute_result"
    }
   ],
   "source": [
    "df_b=df.drop(columns=['Attendance','Assignments_Submitted'])\n",
    "df_b"
   ]
  },
  {
   "cell_type": "code",
   "execution_count": 195,
   "id": "01454cb5",
   "metadata": {},
   "outputs": [
    {
     "data": {
      "text/plain": [
       "<matplotlib.collections.PathCollection at 0x20e11e10410>"
      ]
     },
     "execution_count": 195,
     "metadata": {},
     "output_type": "execute_result"
    },
    {
     "data": {
      "image/png": "[encoded data removed]",
      "text/plain": [
       "<Figure size 640x480 with 1 Axes>"
      ]
     },
     "metadata": {},
     "output_type": "display_data"
    }
   ],
   "source": [
    "plt.scatter(df_b['Study_Hours'],df_b['Result'])"
   ]
  },
  {
   "cell_type": "code",
   "execution_count": 196,
   "id": "16fbe9e3",
   "metadata": {},
   "outputs": [
    {
     "data": {
      "text/plain": [
       "array(['Pass'], dtype=object)"
      ]
     },
     "execution_count": 196,
     "metadata": {},
     "output_type": "execute_result"
    }
   ],
   "source": [
    "x=df_b[['Study_Hours']]\n",
    "y=df_b['Result']\n",
    "\n",
    "from sklearn.model_selection import train_test_split\n",
    "\n",
    "trainx,testx,trainy,testy=train_test_split(x,y,random_state=13,test_size=0.3)\n",
    "\n",
    "from sklearn.linear_model import LogisticRegression\n",
    "\n",
    "model=LogisticRegression()\n",
    "\n",
    "model.fit(trainx,trainy)\n",
    "\n",
    "model.predict(pd.DataFrame({'Study_Hours':[1.8]}))\n",
    "model.predict(pd.DataFrame({'Study_Hours':[2.647]}))"
   ]
  },
  {
   "cell_type": "code",
   "execution_count": 197,
   "id": "526e0b3a",
   "metadata": {},
   "outputs": [
    {
     "data": {
      "text/plain": [
       "array(['Pass'], dtype=object)"
      ]
     },
     "execution_count": 197,
     "metadata": {},
     "output_type": "execute_result"
    }
   ],
   "source": [
    "#Binomial logistic with multiple infut feature(column)\n",
    "\n",
    "x=df.drop(columns=['Result'])\n",
    "y=df['Result']\n",
    "\n",
    "\n",
    "from sklearn.model_selection import train_test_split\n",
    "\n",
    "trainx,testx,trainy,testy=train_test_split(x,y,random_state=13,test_size=0.3)\n",
    "\n",
    "from sklearn.linear_model import LogisticRegression\n",
    "\n",
    "model=LogisticRegression()\n",
    "\n",
    "model.fit(trainx,trainy)\n",
    "\n",
    "model.predict(pd.DataFrame({'Study_Hours':[7.8],'Attendance':[70],'Assignments_Submitted':[11]}))\n",
    "\n"
   ]
  },
  {
   "cell_type": "code",
   "execution_count": 198,
   "id": "078679c9",
   "metadata": {},
   "outputs": [
    {
     "name": "stdout",
     "output_type": "stream",
     "text": [
      "Accuracy score is 100.00\n",
      "Coefficients or m or slops used is [[0.05882111 0.44231437 0.08820681]]\n",
      "Bias or  intercept or is [-30.33563571]\n"
     ]
    }
   ],
   "source": [
    "#Accuracy score ,coef,bias\n",
    "\n",
    "print(f'Accuracy score is {model.score(testx,testy)*100:.2f}')\n",
    "\n",
    "print(f'Coefficients or m or slops used is {model.coef_}') #as value of slop is positive angle with x axis is less than 90\n",
    "\n",
    "print(f'Bias or  intercept or is {model.intercept_}')"
   ]
  },
  {
   "cell_type": "code",
   "execution_count": 199,
   "id": "e6eb4fc0",
   "metadata": {},
   "outputs": [],
   "source": [
    "#polynomial logistic regression\n",
    "\n",
    "#as we did fit in PolynomialFeatures in poolynomial regression follw same steps but use logistic regression in that\n",
    "\n",
    "# pf=PolynomialFeatures(degree=2)\n",
    "# pf.fit(x_train,y_train)"
   ]
  },
  {
   "cell_type": "code",
   "execution_count": 200,
   "id": "aa4c9aa3",
   "metadata": {},
   "outputs": [
    {
     "name": "stdout",
     "output_type": "stream",
     "text": [
      "Confusion matrix (binary):\n",
      "[[3 0]\n",
      " [0 7]]\n"
     ]
    }
   ],
   "source": [
    "from sklearn.metrics import confusion_matrix\n",
    "\n",
    "\n",
    "y_pred=model.predict(x)\n",
    "\n",
    "cm = confusion_matrix(y, y_pred)\n",
    "print(\"Confusion matrix (binary):\")\n",
    "print(cm)\n"
   ]
  },
  {
   "cell_type": "code",
   "execution_count": 201,
   "id": "0996cd26",
   "metadata": {},
   "outputs": [
    {
     "data": {
      "text/plain": [
       "<Axes: >"
      ]
     },
     "execution_count": 201,
     "metadata": {},
     "output_type": "execute_result"
    },
    {
     "data": {
      "image/png": "[encoded data removed]",
      "text/plain": [
       "<Figure size 640x480 with 2 Axes>"
      ]
     },
     "metadata": {},
     "output_type": "display_data"
    }
   ],
   "source": [
    "sns.heatmap(cm,annot=True)"
   ]
  },
  {
   "cell_type": "code",
   "execution_count": 202,
   "id": "26dc5f3f",
   "metadata": {},
   "outputs": [
    {
     "data": {
      "text/html": [
       "<div>\n",
       "<style scoped>\n",
       "    .dataframe tbody tr th:only-of-type {\n",
       "        vertical-align: middle;\n",
       "    }\n",
       "\n",
       "    .dataframe tbody tr th {\n",
       "        vertical-align: top;\n",
       "    }\n",
       "\n",
       "    .dataframe thead th {\n",
       "        text-align: right;\n",
       "    }\n",
       "</style>\n",
       "<table border=\"1\" class=\"dataframe\">\n",
       "  <thead>\n",
       "    <tr style=\"text-align: right;\">\n",
       "      <th></th>\n",
       "      <th>Weight</th>\n",
       "      <th>Color_Score</th>\n",
       "      <th>Fruit</th>\n",
       "      <th>Fruit_cat</th>\n",
       "    </tr>\n",
       "  </thead>\n",
       "  <tbody>\n",
       "    <tr>\n",
       "      <th>0</th>\n",
       "      <td>150</td>\n",
       "      <td>0.75</td>\n",
       "      <td>apple</td>\n",
       "      <td>0</td>\n",
       "    </tr>\n",
       "    <tr>\n",
       "      <th>1</th>\n",
       "      <td>170</td>\n",
       "      <td>0.80</td>\n",
       "      <td>apple</td>\n",
       "      <td>0</td>\n",
       "    </tr>\n",
       "    <tr>\n",
       "      <th>2</th>\n",
       "      <td>140</td>\n",
       "      <td>0.72</td>\n",
       "      <td>apple</td>\n",
       "      <td>0</td>\n",
       "    </tr>\n",
       "    <tr>\n",
       "      <th>3</th>\n",
       "      <td>130</td>\n",
       "      <td>0.70</td>\n",
       "      <td>apple</td>\n",
       "      <td>0</td>\n",
       "    </tr>\n",
       "    <tr>\n",
       "      <th>4</th>\n",
       "      <td>180</td>\n",
       "      <td>0.85</td>\n",
       "      <td>apple</td>\n",
       "      <td>0</td>\n",
       "    </tr>\n",
       "    <tr>\n",
       "      <th>5</th>\n",
       "      <td>160</td>\n",
       "      <td>0.78</td>\n",
       "      <td>apple</td>\n",
       "      <td>0</td>\n",
       "    </tr>\n",
       "    <tr>\n",
       "      <th>6</th>\n",
       "      <td>145</td>\n",
       "      <td>0.73</td>\n",
       "      <td>apple</td>\n",
       "      <td>0</td>\n",
       "    </tr>\n",
       "    <tr>\n",
       "      <th>7</th>\n",
       "      <td>155</td>\n",
       "      <td>0.77</td>\n",
       "      <td>apple</td>\n",
       "      <td>0</td>\n",
       "    </tr>\n",
       "    <tr>\n",
       "      <th>8</th>\n",
       "      <td>165</td>\n",
       "      <td>0.79</td>\n",
       "      <td>apple</td>\n",
       "      <td>0</td>\n",
       "    </tr>\n",
       "    <tr>\n",
       "      <th>9</th>\n",
       "      <td>175</td>\n",
       "      <td>0.83</td>\n",
       "      <td>apple</td>\n",
       "      <td>0</td>\n",
       "    </tr>\n",
       "    <tr>\n",
       "      <th>10</th>\n",
       "      <td>120</td>\n",
       "      <td>0.60</td>\n",
       "      <td>banana</td>\n",
       "      <td>1</td>\n",
       "    </tr>\n",
       "    <tr>\n",
       "      <th>11</th>\n",
       "      <td>110</td>\n",
       "      <td>0.55</td>\n",
       "      <td>banana</td>\n",
       "      <td>1</td>\n",
       "    </tr>\n",
       "    <tr>\n",
       "      <th>12</th>\n",
       "      <td>115</td>\n",
       "      <td>0.57</td>\n",
       "      <td>banana</td>\n",
       "      <td>1</td>\n",
       "    </tr>\n",
       "    <tr>\n",
       "      <th>13</th>\n",
       "      <td>105</td>\n",
       "      <td>0.52</td>\n",
       "      <td>banana</td>\n",
       "      <td>1</td>\n",
       "    </tr>\n",
       "    <tr>\n",
       "      <th>14</th>\n",
       "      <td>100</td>\n",
       "      <td>0.50</td>\n",
       "      <td>banana</td>\n",
       "      <td>1</td>\n",
       "    </tr>\n",
       "    <tr>\n",
       "      <th>15</th>\n",
       "      <td>95</td>\n",
       "      <td>0.48</td>\n",
       "      <td>banana</td>\n",
       "      <td>1</td>\n",
       "    </tr>\n",
       "    <tr>\n",
       "      <th>16</th>\n",
       "      <td>125</td>\n",
       "      <td>0.65</td>\n",
       "      <td>banana</td>\n",
       "      <td>1</td>\n",
       "    </tr>\n",
       "    <tr>\n",
       "      <th>17</th>\n",
       "      <td>135</td>\n",
       "      <td>0.68</td>\n",
       "      <td>banana</td>\n",
       "      <td>1</td>\n",
       "    </tr>\n",
       "    <tr>\n",
       "      <th>18</th>\n",
       "      <td>200</td>\n",
       "      <td>0.90</td>\n",
       "      <td>grape</td>\n",
       "      <td>2</td>\n",
       "    </tr>\n",
       "    <tr>\n",
       "      <th>19</th>\n",
       "      <td>210</td>\n",
       "      <td>0.88</td>\n",
       "      <td>grape</td>\n",
       "      <td>2</td>\n",
       "    </tr>\n",
       "  </tbody>\n",
       "</table>\n",
       "</div>"
      ],
      "text/plain": [
       "    Weight  Color_Score   Fruit  Fruit_cat\n",
       "0      150         0.75   apple          0\n",
       "1      170         0.80   apple          0\n",
       "2      140         0.72   apple          0\n",
       "3      130         0.70   apple          0\n",
       "4      180         0.85   apple          0\n",
       "5      160         0.78   apple          0\n",
       "6      145         0.73   apple          0\n",
       "7      155         0.77   apple          0\n",
       "8      165         0.79   apple          0\n",
       "9      175         0.83   apple          0\n",
       "10     120         0.60  banana          1\n",
       "11     110         0.55  banana          1\n",
       "12     115         0.57  banana          1\n",
       "13     105         0.52  banana          1\n",
       "14     100         0.50  banana          1\n",
       "15      95         0.48  banana          1\n",
       "16     125         0.65  banana          1\n",
       "17     135         0.68  banana          1\n",
       "18     200         0.90   grape          2\n",
       "19     210         0.88   grape          2"
      ]
     },
     "execution_count": 202,
     "metadata": {},
     "output_type": "execute_result"
    }
   ],
   "source": [
    "#Multinomial logistic regression (1 vs all at a time approach)\n",
    "\n",
    "# Multiple output classes\n",
    "\n",
    "data = {\n",
    "    'Weight': [150, 170, 140, 130, 180, 160, 145, 155, 165, 175, \n",
    "               120, 110, 115, 105, 100, 95,  125, 135, 200, 210],\n",
    "    \n",
    "    'Color_Score': [0.75, 0.8, 0.72, 0.7, 0.85, 0.78, 0.73, 0.77, 0.79, 0.83,\n",
    "                    0.6, 0.55, 0.57, 0.52, 0.5, 0.48, 0.65, 0.68, 0.9, 0.88],\n",
    "    \n",
    "    'Fruit': ['apple', 'apple', 'apple', 'apple', 'apple',\n",
    "              'apple', 'apple', 'apple', 'apple', 'apple',\n",
    "              'banana', 'banana', 'banana', 'banana', 'banana',\n",
    "              'banana', 'banana', 'banana', 'grape', 'grape']\n",
    "}\n",
    "df=pd.DataFrame(data)\n",
    "\n",
    "#in multinomial reg we have to encode the prediction feature also it cant be catogorical\n",
    "\n",
    "d={'apple':0,'banana':1,'grape':2}\n",
    "\n",
    "df[\"Fruit_cat\"]=df['Fruit'].map(d)\n",
    "\n",
    "df"
   ]
  },
  {
   "cell_type": "code",
   "execution_count": 203,
   "id": "cb4f2d7f",
   "metadata": {},
   "outputs": [],
   "source": [
    "x=df.drop(columns=['Fruit','Fruit_cat'])\n",
    "y=df['Fruit_cat']\n",
    "\n",
    "from sklearn.model_selection import train_test_split\n",
    "\n",
    "trainx,testx,trainy,testy=train_test_split(x,y,random_state=13,test_size=0.3)"
   ]
  },
  {
   "cell_type": "code",
   "execution_count": 204,
   "id": "41f6b87d",
   "metadata": {},
   "outputs": [
    {
     "data": {
      "text/html": [
       "<style>#sk-container-id-4 {\n",
       "  /* Definition of color scheme common for light and dark mode */\n",
       "  --sklearn-color-text: black;\n",
       "  --sklearn-color-line: gray;\n",
       "  /* Definition of color scheme for unfitted estimators */\n",
       "  --sklearn-color-unfitted-level-0: #fff5e6;\n",
       "  --sklearn-color-unfitted-level-1: #f6e4d2;\n",
       "  --sklearn-color-unfitted-level-2: #ffe0b3;\n",
       "  --sklearn-color-unfitted-level-3: chocolate;\n",
       "  /* Definition of color scheme for fitted estimators */\n",
       "  --sklearn-color-fitted-level-0: #f0f8ff;\n",
       "  --sklearn-color-fitted-level-1: #d4ebff;\n",
       "  --sklearn-color-fitted-level-2: #b3dbfd;\n",
       "  --sklearn-color-fitted-level-3: cornflowerblue;\n",
       "\n",
       "  /* Specific color for light theme */\n",
       "  --sklearn-color-text-on-default-background: var(--sg-text-color, var(--theme-code-foreground, var(--jp-content-font-color1, black)));\n",
       "  --sklearn-color-background: var(--sg-background-color, var(--theme-background, var(--jp-layout-color0, white)));\n",
       "  --sklearn-color-border-box: var(--sg-text-color, var(--theme-code-foreground, var(--jp-content-font-color1, black)));\n",
       "  --sklearn-color-icon: #696969;\n",
       "\n",
       "  @media (prefers-color-scheme: dark) {\n",
       "    /* Redefinition of color scheme for dark theme */\n",
       "    --sklearn-color-text-on-default-background: var(--sg-text-color, var(--theme-code-foreground, var(--jp-content-font-color1, white)));\n",
       "    --sklearn-color-background: var(--sg-background-color, var(--theme-background, var(--jp-layout-color0, #111)));\n",
       "    --sklearn-color-border-box: var(--sg-text-color, var(--theme-code-foreground, var(--jp-content-font-color1, white)));\n",
       "    --sklearn-color-icon: #878787;\n",
       "  }\n",
       "}\n",
       "\n",
       "#sk-container-id-4 {\n",
       "  color: var(--sklearn-color-text);\n",
       "}\n",
       "\n",
       "#sk-container-id-4 pre {\n",
       "  padding: 0;\n",
       "}\n",
       "\n",
       "#sk-container-id-4 input.sk-hidden--visually {\n",
       "  border: 0;\n",
       "  clip: rect(1px 1px 1px 1px);\n",
       "  clip: rect(1px, 1px, 1px, 1px);\n",
       "  height: 1px;\n",
       "  margin: -1px;\n",
       "  overflow: hidden;\n",
       "  padding: 0;\n",
       "  position: absolute;\n",
       "  width: 1px;\n",
       "}\n",
       "\n",
       "#sk-container-id-4 div.sk-dashed-wrapped {\n",
       "  border: 1px dashed var(--sklearn-color-line);\n",
       "  margin: 0 0.4em 0.5em 0.4em;\n",
       "  box-sizing: border-box;\n",
       "  padding-bottom: 0.4em;\n",
       "  background-color: var(--sklearn-color-background);\n",
       "}\n",
       "\n",
       "#sk-container-id-4 div.sk-container {\n",
       "  /* jupyter's `normalize.less` sets `[hidden] { display: none; }`\n",
       "     but bootstrap.min.css set `[hidden] { display: none !important; }`\n",
       "     so we also need the `!important` here to be able to override the\n",
       "     default hidden behavior on the sphinx rendered scikit-learn.org.\n",
       "     See: https://github.com/scikit-learn/scikit-learn/issues/21755 */\n",
       "  display: inline-block !important;\n",
       "  position: relative;\n",
       "}\n",
       "\n",
       "#sk-container-id-4 div.sk-text-repr-fallback {\n",
       "  display: none;\n",
       "}\n",
       "\n",
       "div.sk-parallel-item,\n",
       "div.sk-serial,\n",
       "div.sk-item {\n",
       "  /* draw centered vertical line to link estimators */\n",
       "  background-image: linear-gradient(var(--sklearn-color-text-on-default-background), var(--sklearn-color-text-on-default-background));\n",
       "  background-size: 2px 100%;\n",
       "  background-repeat: no-repeat;\n",
       "  background-position: center center;\n",
       "}\n",
       "\n",
       "/* Parallel-specific style estimator block */\n",
       "\n",
       "#sk-container-id-4 div.sk-parallel-item::after {\n",
       "  content: \"\";\n",
       "  width: 100%;\n",
       "  border-bottom: 2px solid var(--sklearn-color-text-on-default-background);\n",
       "  flex-grow: 1;\n",
       "}\n",
       "\n",
       "#sk-container-id-4 div.sk-parallel {\n",
       "  display: flex;\n",
       "  align-items: stretch;\n",
       "  justify-content: center;\n",
       "  background-color: var(--sklearn-color-background);\n",
       "  position: relative;\n",
       "}\n",
       "\n",
       "#sk-container-id-4 div.sk-parallel-item {\n",
       "  display: flex;\n",
       "  flex-direction: column;\n",
       "}\n",
       "\n",
       "#sk-container-id-4 div.sk-parallel-item:first-child::after {\n",
       "  align-self: flex-end;\n",
       "  width: 50%;\n",
       "}\n",
       "\n",
       "#sk-container-id-4 div.sk-parallel-item:last-child::after {\n",
       "  align-self: flex-start;\n",
       "  width: 50%;\n",
       "}\n",
       "\n",
       "#sk-container-id-4 div.sk-parallel-item:only-child::after {\n",
       "  width: 0;\n",
       "}\n",
       "\n",
       "/* Serial-specific style estimator block */\n",
       "\n",
       "#sk-container-id-4 div.sk-serial {\n",
       "  display: flex;\n",
       "  flex-direction: column;\n",
       "  align-items: center;\n",
       "  background-color: var(--sklearn-color-background);\n",
       "  padding-right: 1em;\n",
       "  padding-left: 1em;\n",
       "}\n",
       "\n",
       "\n",
       "/* Toggleable style: style used for estimator/Pipeline/ColumnTransformer box that is\n",
       "clickable and can be expanded/collapsed.\n",
       "- Pipeline and ColumnTransformer use this feature and define the default style\n",
       "- Estimators will overwrite some part of the style using the `sk-estimator` class\n",
       "*/\n",
       "\n",
       "/* Pipeline and ColumnTransformer style (default) */\n",
       "\n",
       "#sk-container-id-4 div.sk-toggleable {\n",
       "  /* Default theme specific background. It is overwritten whether we have a\n",
       "  specific estimator or a Pipeline/ColumnTransformer */\n",
       "  background-color: var(--sklearn-color-background);\n",
       "}\n",
       "\n",
       "/* Toggleable label */\n",
       "#sk-container-id-4 label.sk-toggleable__label {\n",
       "  cursor: pointer;\n",
       "  display: block;\n",
       "  width: 100%;\n",
       "  margin-bottom: 0;\n",
       "  padding: 0.5em;\n",
       "  box-sizing: border-box;\n",
       "  text-align: center;\n",
       "}\n",
       "\n",
       "#sk-container-id-4 label.sk-toggleable__label-arrow:before {\n",
       "  /* Arrow on the left of the label */\n",
       "  content: \"▸\";\n",
       "  float: left;\n",
       "  margin-right: 0.25em;\n",
       "  color: var(--sklearn-color-icon);\n",
       "}\n",
       "\n",
       "#sk-container-id-4 label.sk-toggleable__label-arrow:hover:before {\n",
       "  color: var(--sklearn-color-text);\n",
       "}\n",
       "\n",
       "/* Toggleable content - dropdown */\n",
       "\n",
       "#sk-container-id-4 div.sk-toggleable__content {\n",
       "  max-height: 0;\n",
       "  max-width: 0;\n",
       "  overflow: hidden;\n",
       "  text-align: left;\n",
       "  /* unfitted */\n",
       "  background-color: var(--sklearn-color-unfitted-level-0);\n",
       "}\n",
       "\n",
       "#sk-container-id-4 div.sk-toggleable__content.fitted {\n",
       "  /* fitted */\n",
       "  background-color: var(--sklearn-color-fitted-level-0);\n",
       "}\n",
       "\n",
       "#sk-container-id-4 div.sk-toggleable__content pre {\n",
       "  margin: 0.2em;\n",
       "  border-radius: 0.25em;\n",
       "  color: var(--sklearn-color-text);\n",
       "  /* unfitted */\n",
       "  background-color: var(--sklearn-color-unfitted-level-0);\n",
       "}\n",
       "\n",
       "#sk-container-id-4 div.sk-toggleable__content.fitted pre {\n",
       "  /* unfitted */\n",
       "  background-color: var(--sklearn-color-fitted-level-0);\n",
       "}\n",
       "\n",
       "#sk-container-id-4 input.sk-toggleable__control:checked~div.sk-toggleable__content {\n",
       "  /* Expand drop-down */\n",
       "  max-height: 200px;\n",
       "  max-width: 100%;\n",
       "  overflow: auto;\n",
       "}\n",
       "\n",
       "#sk-container-id-4 input.sk-toggleable__control:checked~label.sk-toggleable__label-arrow:before {\n",
       "  content: \"▾\";\n",
       "}\n",
       "\n",
       "/* Pipeline/ColumnTransformer-specific style */\n",
       "\n",
       "#sk-container-id-4 div.sk-label input.sk-toggleable__control:checked~label.sk-toggleable__label {\n",
       "  color: var(--sklearn-color-text);\n",
       "  background-color: var(--sklearn-color-unfitted-level-2);\n",
       "}\n",
       "\n",
       "#sk-container-id-4 div.sk-label.fitted input.sk-toggleable__control:checked~label.sk-toggleable__label {\n",
       "  background-color: var(--sklearn-color-fitted-level-2);\n",
       "}\n",
       "\n",
       "/* Estimator-specific style */\n",
       "\n",
       "/* Colorize estimator box */\n",
       "#sk-container-id-4 div.sk-estimator input.sk-toggleable__control:checked~label.sk-toggleable__label {\n",
       "  /* unfitted */\n",
       "  background-color: var(--sklearn-color-unfitted-level-2);\n",
       "}\n",
       "\n",
       "#sk-container-id-4 div.sk-estimator.fitted input.sk-toggleable__control:checked~label.sk-toggleable__label {\n",
       "  /* fitted */\n",
       "  background-color: var(--sklearn-color-fitted-level-2);\n",
       "}\n",
       "\n",
       "#sk-container-id-4 div.sk-label label.sk-toggleable__label,\n",
       "#sk-container-id-4 div.sk-label label {\n",
       "  /* The background is the default theme color */\n",
       "  color: var(--sklearn-color-text-on-default-background);\n",
       "}\n",
       "\n",
       "/* On hover, darken the color of the background */\n",
       "#sk-container-id-4 div.sk-label:hover label.sk-toggleable__label {\n",
       "  color: var(--sklearn-color-text);\n",
       "  background-color: var(--sklearn-color-unfitted-level-2);\n",
       "}\n",
       "\n",
       "/* Label box, darken color on hover, fitted */\n",
       "#sk-container-id-4 div.sk-label.fitted:hover label.sk-toggleable__label.fitted {\n",
       "  color: var(--sklearn-color-text);\n",
       "  background-color: var(--sklearn-color-fitted-level-2);\n",
       "}\n",
       "\n",
       "/* Estimator label */\n",
       "\n",
       "#sk-container-id-4 div.sk-label label {\n",
       "  font-family: monospace;\n",
       "  font-weight: bold;\n",
       "  display: inline-block;\n",
       "  line-height: 1.2em;\n",
       "}\n",
       "\n",
       "#sk-container-id-4 div.sk-label-container {\n",
       "  text-align: center;\n",
       "}\n",
       "\n",
       "/* Estimator-specific */\n",
       "#sk-container-id-4 div.sk-estimator {\n",
       "  font-family: monospace;\n",
       "  border: 1px dotted var(--sklearn-color-border-box);\n",
       "  border-radius: 0.25em;\n",
       "  box-sizing: border-box;\n",
       "  margin-bottom: 0.5em;\n",
       "  /* unfitted */\n",
       "  background-color: var(--sklearn-color-unfitted-level-0);\n",
       "}\n",
       "\n",
       "#sk-container-id-4 div.sk-estimator.fitted {\n",
       "  /* fitted */\n",
       "  background-color: var(--sklearn-color-fitted-level-0);\n",
       "}\n",
       "\n",
       "/* on hover */\n",
       "#sk-container-id-4 div.sk-estimator:hover {\n",
       "  /* unfitted */\n",
       "  background-color: var(--sklearn-color-unfitted-level-2);\n",
       "}\n",
       "\n",
       "#sk-container-id-4 div.sk-estimator.fitted:hover {\n",
       "  /* fitted */\n",
       "  background-color: var(--sklearn-color-fitted-level-2);\n",
       "}\n",
       "\n",
       "/* Specification for estimator info (e.g. \"i\" and \"?\") */\n",
       "\n",
       "/* Common style for \"i\" and \"?\" */\n",
       "\n",
       ".sk-estimator-doc-link,\n",
       "a:link.sk-estimator-doc-link,\n",
       "a:visited.sk-estimator-doc-link {\n",
       "  float: right;\n",
       "  font-size: smaller;\n",
       "  line-height: 1em;\n",
       "  font-family: monospace;\n",
       "  background-color: var(--sklearn-color-background);\n",
       "  border-radius: 1em;\n",
       "  height: 1em;\n",
       "  width: 1em;\n",
       "  text-decoration: none !important;\n",
       "  margin-left: 1ex;\n",
       "  /* unfitted */\n",
       "  border: var(--sklearn-color-unfitted-level-1) 1pt solid;\n",
       "  color: var(--sklearn-color-unfitted-level-1);\n",
       "}\n",
       "\n",
       ".sk-estimator-doc-link.fitted,\n",
       "a:link.sk-estimator-doc-link.fitted,\n",
       "a:visited.sk-estimator-doc-link.fitted {\n",
       "  /* fitted */\n",
       "  border: var(--sklearn-color-fitted-level-1) 1pt solid;\n",
       "  color: var(--sklearn-color-fitted-level-1);\n",
       "}\n",
       "\n",
       "/* On hover */\n",
       "div.sk-estimator:hover .sk-estimator-doc-link:hover,\n",
       ".sk-estimator-doc-link:hover,\n",
       "div.sk-label-container:hover .sk-estimator-doc-link:hover,\n",
       ".sk-estimator-doc-link:hover {\n",
       "  /* unfitted */\n",
       "  background-color: var(--sklearn-color-unfitted-level-3);\n",
       "  color: var(--sklearn-color-background);\n",
       "  text-decoration: none;\n",
       "}\n",
       "\n",
       "div.sk-estimator.fitted:hover .sk-estimator-doc-link.fitted:hover,\n",
       ".sk-estimator-doc-link.fitted:hover,\n",
       "div.sk-label-container:hover .sk-estimator-doc-link.fitted:hover,\n",
       ".sk-estimator-doc-link.fitted:hover {\n",
       "  /* fitted */\n",
       "  background-color: var(--sklearn-color-fitted-level-3);\n",
       "  color: var(--sklearn-color-background);\n",
       "  text-decoration: none;\n",
       "}\n",
       "\n",
       "/* Span, style for the box shown on hovering the info icon */\n",
       ".sk-estimator-doc-link span {\n",
       "  display: none;\n",
       "  z-index: 9999;\n",
       "  position: relative;\n",
       "  font-weight: normal;\n",
       "  right: .2ex;\n",
       "  padding: .5ex;\n",
       "  margin: .5ex;\n",
       "  width: min-content;\n",
       "  min-width: 20ex;\n",
       "  max-width: 50ex;\n",
       "  color: var(--sklearn-color-text);\n",
       "  box-shadow: 2pt 2pt 4pt #999;\n",
       "  /* unfitted */\n",
       "  background: var(--sklearn-color-unfitted-level-0);\n",
       "  border: .5pt solid var(--sklearn-color-unfitted-level-3);\n",
       "}\n",
       "\n",
       ".sk-estimator-doc-link.fitted span {\n",
       "  /* fitted */\n",
       "  background: var(--sklearn-color-fitted-level-0);\n",
       "  border: var(--sklearn-color-fitted-level-3);\n",
       "}\n",
       "\n",
       ".sk-estimator-doc-link:hover span {\n",
       "  display: block;\n",
       "}\n",
       "\n",
       "/* \"?\"-specific style due to the `<a>` HTML tag */\n",
       "\n",
       "#sk-container-id-4 a.estimator_doc_link {\n",
       "  float: right;\n",
       "  font-size: 1rem;\n",
       "  line-height: 1em;\n",
       "  font-family: monospace;\n",
       "  background-color: var(--sklearn-color-background);\n",
       "  border-radius: 1rem;\n",
       "  height: 1rem;\n",
       "  width: 1rem;\n",
       "  text-decoration: none;\n",
       "  /* unfitted */\n",
       "  color: var(--sklearn-color-unfitted-level-1);\n",
       "  border: var(--sklearn-color-unfitted-level-1) 1pt solid;\n",
       "}\n",
       "\n",
       "#sk-container-id-4 a.estimator_doc_link.fitted {\n",
       "  /* fitted */\n",
       "  border: var(--sklearn-color-fitted-level-1) 1pt solid;\n",
       "  color: var(--sklearn-color-fitted-level-1);\n",
       "}\n",
       "\n",
       "/* On hover */\n",
       "#sk-container-id-4 a.estimator_doc_link:hover {\n",
       "  /* unfitted */\n",
       "  background-color: var(--sklearn-color-unfitted-level-3);\n",
       "  color: var(--sklearn-color-background);\n",
       "  text-decoration: none;\n",
       "}\n",
       "\n",
       "#sk-container-id-4 a.estimator_doc_link.fitted:hover {\n",
       "  /* fitted */\n",
       "  background-color: var(--sklearn-color-fitted-level-3);\n",
       "}\n",
       "</style><div id=\"sk-container-id-4\" class=\"sk-top-container\"><div class=\"sk-text-repr-fallback\"><pre>LogisticRegression()</pre><b>In a Jupyter environment, please rerun this cell to show the HTML representation or trust the notebook. <br />On GitHub, the HTML representation is unable to render, please try loading this page with nbviewer.org.</b></div><div class=\"sk-container\" hidden><div class=\"sk-item\"><div class=\"sk-estimator fitted sk-toggleable\"><input class=\"sk-toggleable__control sk-hidden--visually\" id=\"sk-estimator-id-4\" type=\"checkbox\" checked><label for=\"sk-estimator-id-4\" class=\"sk-toggleable__label fitted sk-toggleable__label-arrow fitted\">&nbsp;&nbsp;LogisticRegression<a class=\"sk-estimator-doc-link fitted\" rel=\"noreferrer\" target=\"_blank\" href=\"https://scikit-learn.org/1.5/modules/generated/sklearn.linear_model.LogisticRegression.html\">?<span>Documentation for LogisticRegression</span></a><span class=\"sk-estimator-doc-link fitted\">i<span>Fitted</span></span></label><div class=\"sk-toggleable__content fitted\"><pre>LogisticRegression()</pre></div> </div></div></div></div>"
      ],
      "text/plain": [
       "LogisticRegression()"
      ]
     },
     "execution_count": 204,
     "metadata": {},
     "output_type": "execute_result"
    }
   ],
   "source": [
    "from sklearn.linear_model import LogisticRegression\n",
    "\n",
    "model=LogisticRegression()\n",
    "\n",
    "model.fit(trainx,trainy)"
   ]
  },
  {
   "cell_type": "code",
   "execution_count": 205,
   "id": "c6248ebc",
   "metadata": {},
   "outputs": [
    {
     "name": "stdout",
     "output_type": "stream",
     "text": [
      "grape\n"
     ]
    }
   ],
   "source": [
    "p=model.predict(pd.DataFrame({'Weight':[200],'Color_Score':[0.65]}))\n",
    "\n",
    "for key,value in d.items():\n",
    "    if value==p[0]:\n",
    "        print(key)"
   ]
  },
  {
   "cell_type": "code",
   "execution_count": 206,
   "id": "a18ad8f4",
   "metadata": {},
   "outputs": [
    {
     "name": "stdout",
     "output_type": "stream",
     "text": [
      "Accuracy score is 100.00\n",
      "Coefficients or m or slops used is [[-0.05801795  0.02904432]\n",
      " [-0.29626222 -0.029932  ]\n",
      " [ 0.35428017  0.00088768]]\n",
      "Bias or  intercept or is [ 15.58697223  47.19136406 -62.77833629]\n"
     ]
    }
   ],
   "source": [
    "#Accuracy score ,coef,bias\n",
    "\n",
    "print(f'Accuracy score is {model.score(testx,testy)*100:.2f}')\n",
    "\n",
    "print(f'Coefficients or m or slops used is {model.coef_}') #as value of slop is positive angle with x axis is less than 90\n",
    "\n",
    "print(f'Bias or  intercept or is {model.intercept_}')"
   ]
  },
  {
   "cell_type": "code",
   "execution_count": 207,
   "id": "e4d3db29",
   "metadata": {},
   "outputs": [
    {
     "name": "stdout",
     "output_type": "stream",
     "text": [
      "Confusion matrix (binary):\n",
      "[[9 1 0]\n",
      " [1 7 0]\n",
      " [0 0 2]]\n"
     ]
    },
    {
     "data": {
      "text/plain": [
       "<Axes: >"
      ]
     },
     "execution_count": 207,
     "metadata": {},
     "output_type": "execute_result"
    },
    {
     "data": {
      "image/png": "[encoded data removed]",
      "text/plain": [
       "<Figure size 640x480 with 2 Axes>"
      ]
     },
     "metadata": {},
     "output_type": "display_data"
    }
   ],
   "source": [
    "from sklearn.metrics import confusion_matrix\n",
    "\n",
    "\n",
    "y_pred=model.predict(x)\n",
    "\n",
    "cm = confusion_matrix(y, y_pred)\n",
    "print(\"Confusion matrix (binary):\")\n",
    "print(cm)\n",
    "sns.heatmap(cm,annot=True)"
   ]
  },
  {
   "cell_type": "code",
   "execution_count": 208,
   "id": "4df0ddfa",
   "metadata": {},
   "outputs": [
    {
     "data": {
      "text/plain": [
       "\"\\nLet's get straight to it—**how does a multinomial confusion matrix actually work, exactly?**\\n\\n---\\n\\n### What is a Confusion Matrix?\\n\\nA confusion matrix is a **square matrix** used to evaluate the performance of a classification model. For a classification problem with **N classes**, it is an **N x N matrix** where:\\n\\n* **Rows** represent the **true classes** (actual labels).\\n* **Columns** represent the **predicted classes** (model output).\\n\\n---\\n\\n### For **Multinomial Classification** (3 or more classes):\\n\\nSuppose you have classes:\\n**Class 1, Class 2, Class 3, ..., Class N**\\n\\nThe confusion matrix looks like this:\\n\\n|                  | Predicted Class 1 | Predicted Class 2 | ... | Predicted Class N |\\n| ---------------- | ----------------- | ----------------- | --- | ----------------- |\\n| **True Class 1** | count\\\\_11         | count\\\\_12         | ... | count\\\\_1N         |\\n| **True Class 2** | count\\\\_21         | count\\\\_22         | ... | count\\\\_2N         |\\n| ...              | ...               | ...               | ... | ...               |\\n| **True Class N** | count\\\\_N1         | count\\\\_N2         | ... | count\\\\_NN         |\\n\\n---\\n\\n### What do the counts mean?\\n\\n* `count_ij` = Number of samples whose **true class is i** and **predicted class is j**.\\n* The **diagonal elements** (`count_11`, `count_22`, ..., `count_NN`) represent the **correct predictions** for each class.\\n* The **off-diagonal elements** represent **misclassifications**, i.e., where the model confused class i with class j.\\n\\n---\\n\\n### How to interpret it?\\n\\n* The **better** your model, the more the counts concentrate on the diagonal.\\n* Large off-diagonal values indicate that your model frequently confuses those classes.\\n\\n---\\n\\n### Concrete example (3 classes):\\n\\n| True \\\\ Predicted | Apple | Banana | Grape |\\n| ---------------- | ----- | ------ | ----- |\\n| **Apple**        | 7     | 2      | 1     |\\n| **Banana**       | 1     | 6      | 3     |\\n| **Grape**        | 0     | 2      | 5     |\\n\\n* 7 apples were correctly predicted as apples.\\n* 2 apples were wrongly predicted as bananas.\\n* 1 apple was wrongly predicted as grape.\\n* Similarly for bananas and grapes.\\n\\n---\\n\\n### Usage for metrics calculation\\n\\nFrom this confusion matrix, you can compute metrics **per class** like:\\n\\n* **Precision** for class i = True Positives (count\\\\_ii) / (Predicted as i total, i.e., sum of column i)\\n* **Recall** for class i = True Positives (count\\\\_ii) / (Actual class i total, i.e., sum of row i)\\n* **F1-score**, etc.\\n\\nThese can be macro-averaged or micro-averaged for overall performance.\\n\\n---\\n\\n### Summary\\n\\n| Property         | Description                            |\\n| ---------------- | -------------------------------------- |\\n| Size             | N x N for N classes                    |\\n| Rows             | Actual (true) classes                  |\\n| Columns          | Predicted classes                      |\\n| Diagonal entries | Correct classifications                |\\n| Off-diagonal     | Misclassifications                     |\\n| Interpretation   | Concentration on diagonal = good model |\\n\\n---\\n\\nIf you want, I can also explain **how this applies programmatically** (like what `sklearn.metrics.confusion_matrix` returns and how to use it) or how to compute class-wise metrics from it.\\n\\n\""
      ]
     },
     "execution_count": 208,
     "metadata": {},
     "output_type": "execute_result"
    }
   ],
   "source": [
    "\"\"\"\n",
    "Let's get straight to it—**how does a multinomial confusion matrix actually work, exactly?**\n",
    "\n",
    "---\n",
    "\n",
    "### What is a Confusion Matrix?\n",
    "\n",
    "A confusion matrix is a **square matrix** used to evaluate the performance of a classification model. For a classification problem with **N classes**, it is an **N x N matrix** where:\n",
    "\n",
    "* **Rows** represent the **true classes** (actual labels).\n",
    "* **Columns** represent the **predicted classes** (model output).\n",
    "\n",
    "---\n",
    "\n",
    "### For **Multinomial Classification** (3 or more classes):\n",
    "\n",
    "Suppose you have classes:\n",
    "**Class 1, Class 2, Class 3, ..., Class N**\n",
    "\n",
    "The confusion matrix looks like this:\n",
    "\n",
    "|                  | Predicted Class 1 | Predicted Class 2 | ... | Predicted Class N |\n",
    "| ---------------- | ----------------- | ----------------- | --- | ----------------- |\n",
    "| **True Class 1** | count\\_11         | count\\_12         | ... | count\\_1N         |\n",
    "| **True Class 2** | count\\_21         | count\\_22         | ... | count\\_2N         |\n",
    "| ...              | ...               | ...               | ... | ...               |\n",
    "| **True Class N** | count\\_N1         | count\\_N2         | ... | count\\_NN         |\n",
    "\n",
    "---\n",
    "\n",
    "### What do the counts mean?\n",
    "\n",
    "* `count_ij` = Number of samples whose **true class is i** and **predicted class is j**.\n",
    "* The **diagonal elements** (`count_11`, `count_22`, ..., `count_NN`) represent the **correct predictions** for each class.\n",
    "* The **off-diagonal elements** represent **misclassifications**, i.e., where the model confused class i with class j.\n",
    "\n",
    "---\n",
    "\n",
    "### How to interpret it?\n",
    "\n",
    "* The **better** your model, the more the counts concentrate on the diagonal.\n",
    "* Large off-diagonal values indicate that your model frequently confuses those classes.\n",
    "\n",
    "---\n",
    "\n",
    "### Concrete example (3 classes):\n",
    "\n",
    "| True \\ Predicted | Apple | Banana | Grape |\n",
    "| ---------------- | ----- | ------ | ----- |\n",
    "| **Apple**        | 7     | 2      | 1     |\n",
    "| **Banana**       | 1     | 6      | 3     |\n",
    "| **Grape**        | 0     | 2      | 5     |\n",
    "\n",
    "* 7 apples were correctly predicted as apples.\n",
    "* 2 apples were wrongly predicted as bananas.\n",
    "* 1 apple was wrongly predicted as grape.\n",
    "* Similarly for bananas and grapes.\n",
    "\n",
    "---\n",
    "\n",
    "### Usage for metrics calculation\n",
    "\n",
    "From this confusion matrix, you can compute metrics **per class** like:\n",
    "\n",
    "* **Precision** for class i = True Positives (count\\_ii) / (Predicted as i total, i.e., sum of column i)\n",
    "* **Recall** for class i = True Positives (count\\_ii) / (Actual class i total, i.e., sum of row i)\n",
    "* **F1-score**, etc.\n",
    "\n",
    "These can be macro-averaged or micro-averaged for overall performance.\n",
    "\n",
    "---\n",
    "\n",
    "### Summary\n",
    "\n",
    "| Property         | Description                            |\n",
    "| ---------------- | -------------------------------------- |\n",
    "| Size             | N x N for N classes                    |\n",
    "| Rows             | Actual (true) classes                  |\n",
    "| Columns          | Predicted classes                      |\n",
    "| Diagonal entries | Correct classifications                |\n",
    "| Off-diagonal     | Misclassifications                     |\n",
    "| Interpretation   | Concentration on diagonal = good model |\n",
    "\n",
    "---\n",
    "\n",
    "If you want, I can also explain **how this applies programmatically** (like what `sklearn.metrics.confusion_matrix` returns and how to use it) or how to compute class-wise metrics from it.\n",
    "\n",
    "\"\"\""
   ]
  },
  {
   "cell_type": "code",
   "execution_count": 209,
   "id": "fc214bd5",
   "metadata": {},
   "outputs": [
    {
     "data": {
      "text/plain": [
       "\"\\n\\nData Imbalance (or Class Imbalance)\\n\\nData Imbalance occurs when the number of instances \\nin one class is significantly higher or lower than \\nthe others in a classification dataset.\\n\\nFor eg\\n\\n| Class | Count |\\n| ----- | ----- |\\n| 0     | 950   |\\n| 1     | 50    |\\n\\nThis is a highly imbalanced dataset (95% to 5%).\\n\\nWhy is Imbalanced Data a Problem?:  1. Model Bias Toward Majority Class: Many classification algorithms \\n                                                                        (like logistic regression, decision trees, etc.) \\n                                                                        optimize for accuracy, so they learn to predict \\n                                                                        the majority class more often to minimize error.\\n                                                                        \\n                                    2. Misleading Metrics: Accuracy becomes useless and all other metrics like precision etc becomes useless\\n                                    \\n                                    3. Poor generalization: The model fails to learn the patterns of minority classes properly \\n                                                           and cannot generalize to real-world cases where detecting that minority \\n                                                           class might be critical (e.g. fraud, cancer).\\n\\ndf['target'].value_counts() is used to detect how many training values belong to which classes\\n\\nHow to Handle Imbalanced Data: 1.Random under sampling: Randomly removes samples from the majority class to match minority class count but Risks losing important data means underfitting\\n                               2.Random over sampling: Duplicate existing minority class examples but may cause overfitting\\n\\n\""
      ]
     },
     "execution_count": 209,
     "metadata": {},
     "output_type": "execute_result"
    }
   ],
   "source": [
    "\"\"\"\n",
    "\n",
    "Data Imbalance (or Class Imbalance)\n",
    "\n",
    "Data Imbalance occurs when the number of instances \n",
    "in one class is significantly higher or lower than \n",
    "the others in a classification dataset.\n",
    "\n",
    "For eg\n",
    "\n",
    "| Class | Count |\n",
    "| ----- | ----- |\n",
    "| 0     | 950   |\n",
    "| 1     | 50    |\n",
    "\n",
    "This is a highly imbalanced dataset (95% to 5%).\n",
    "\n",
    "Why is Imbalanced Data a Problem?:  1. Model Bias Toward Majority Class: Many classification algorithms \n",
    "                                                                        (like logistic regression, decision trees, etc.) \n",
    "                                                                        optimize for accuracy, so they learn to predict \n",
    "                                                                        the majority class more often to minimize error.\n",
    "                                                                        \n",
    "                                    2. Misleading Metrics: Accuracy becomes useless and all other metrics like precision etc becomes useless\n",
    "                                    \n",
    "                                    3. Poor generalization: The model fails to learn the patterns of minority classes properly \n",
    "                                                           and cannot generalize to real-world cases where detecting that minority \n",
    "                                                           class might be critical (e.g. fraud, cancer).\n",
    "\n",
    "df['target'].value_counts() is used to detect how many training values belong to which classes\n",
    "\n",
    "How to Handle Imbalanced Data: 1.Random under sampling: Randomly removes samples from the majority class to match minority class count but Risks losing important data means underfitting\n",
    "                               2.Random over sampling: Duplicate existing minority class examples but may cause overfitting\n",
    "\n",
    "\"\"\""
   ]
  },
  {
   "cell_type": "code",
   "execution_count": 210,
   "id": "901ca8f7",
   "metadata": {},
   "outputs": [
    {
     "name": "stdout",
     "output_type": "stream",
     "text": [
      "Fraud\n",
      "0    20\n",
      "1     5\n",
      "Name: count, dtype: int64\n"
     ]
    }
   ],
   "source": [
    "imbalanced_data = {\n",
    "    'Transaction_Amount': [100, 200, 150, 180, 90, 130, 175, 120, 110, 160, \n",
    "                           300, 280, 310, 320, 330, 350, 370, 340, 360, 390,\n",
    "                           50, 60, 40, 70, 55],  # Minority samples last 5\n",
    "    'Transaction_Duration': [5, 10, 7, 9, 6, 8, 10, 5, 6, 9,\n",
    "                             20, 18, 25, 30, 28, 35, 32, 29, 33, 31,\n",
    "                             1, 2, 1.5, 2.5, 1.2],\n",
    "    'Fraud': [0, 0, 0, 0, 0, 0, 0, 0, 0, 0,\n",
    "              0, 0, 0, 0, 0, 0, 0, 0, 0, 0,\n",
    "              1, 1, 1, 1, 1]  # Only 5 frauds → 20:5 = 4:1 imbalance\n",
    "}\n",
    "df = pd.DataFrame(imbalanced_data)\n",
    "\n",
    "print(df['Fraud'].value_counts())"
   ]
  },
  {
   "cell_type": "code",
   "execution_count": 211,
   "id": "80742a24",
   "metadata": {},
   "outputs": [],
   "source": [
    "x=df.iloc[:,:-1]\n",
    "y=df['Fraud']"
   ]
  },
  {
   "cell_type": "code",
   "execution_count": 212,
   "id": "e6b291fc",
   "metadata": {},
   "outputs": [
    {
     "name": "stdout",
     "output_type": "stream",
     "text": [
      "Requirement already satisfied: imblearn in c:\\users\\shree\\appdata\\local\\programs\\python\\python311\\lib\\site-packages (0.0)\n",
      "Requirement already satisfied: imbalanced-learn in c:\\users\\shree\\appdata\\local\\programs\\python\\python311\\lib\\site-packages (from imblearn) (0.13.0)\n",
      "Requirement already satisfied: numpy<3,>=1.24.3 in c:\\users\\shree\\appdata\\local\\programs\\python\\python311\\lib\\site-packages (from imbalanced-learn->imblearn) (1.26.4)\n",
      "Requirement already satisfied: scipy<2,>=1.10.1 in c:\\users\\shree\\appdata\\local\\programs\\python\\python311\\lib\\site-packages (from imbalanced-learn->imblearn) (1.15.2)\n",
      "Requirement already satisfied: scikit-learn<2,>=1.3.2 in c:\\users\\shree\\appdata\\local\\programs\\python\\python311\\lib\\site-packages (from imbalanced-learn->imblearn) (1.5.1)\n",
      "Requirement already satisfied: sklearn-compat<1,>=0.1 in c:\\users\\shree\\appdata\\local\\programs\\python\\python311\\lib\\site-packages (from imbalanced-learn->imblearn) (0.1.3)\n",
      "Requirement already satisfied: joblib<2,>=1.1.1 in c:\\users\\shree\\appdata\\local\\programs\\python\\python311\\lib\\site-packages (from imbalanced-learn->imblearn) (1.4.2)\n",
      "Requirement already satisfied: threadpoolctl<4,>=2.0.0 in c:\\users\\shree\\appdata\\local\\programs\\python\\python311\\lib\\site-packages (from imbalanced-learn->imblearn) (3.5.0)\n",
      "Note: you may need to restart the kernel to use updated packages.\n"
     ]
    },
    {
     "name": "stderr",
     "output_type": "stream",
     "text": [
      "\n",
      "[notice] A new release of pip is available: 25.0.1 -> 25.1.1\n",
      "[notice] To update, run: python.exe -m pip install --upgrade pip\n"
     ]
    }
   ],
   "source": [
    "%pip install imblearn"
   ]
  },
  {
   "cell_type": "code",
   "execution_count": 213,
   "id": "2b7cc730",
   "metadata": {},
   "outputs": [
    {
     "data": {
      "text/plain": [
       "Fraud\n",
       "0    5\n",
       "1    5\n",
       "Name: count, dtype: int64"
      ]
     },
     "execution_count": 213,
     "metadata": {},
     "output_type": "execute_result"
    }
   ],
   "source": [
    "from imblearn.under_sampling import RandomUnderSampler\n",
    "\n",
    "ru=RandomUnderSampler()\n",
    "ru_x,ru_y=ru.fit_resample(x,y) \n",
    "\n",
    "df_after_under_sampling=pd.concat([ru_x,ru_y],axis=1)\n",
    "\n",
    "df_after_under_sampling['Fraud'].value_counts() #in original dataset we had 20-5 combination now 20 has been reduced to 5-5"
   ]
  },
  {
   "cell_type": "code",
   "execution_count": null,
   "id": "afc34f55",
   "metadata": {},
   "outputs": [],
   "source": []
  },
  {
   "cell_type": "code",
   "execution_count": 214,
   "id": "25df6d99",
   "metadata": {},
   "outputs": [
    {
     "data": {
      "text/plain": [
       "Fraud\n",
       "0    20\n",
       "1    20\n",
       "Name: count, dtype: int64"
      ]
     },
     "execution_count": 214,
     "metadata": {},
     "output_type": "execute_result"
    }
   ],
   "source": [
    "from imblearn.over_sampling import RandomOverSampler\n",
    "\n",
    "ro=RandomOverSampler()\n",
    "\n",
    "ro_x,ro_y=ro.fit_resample(x,y)\n",
    "\n",
    "df_after_over_sampling=pd.concat([ro_x,ro_y],axis=1)\n",
    "\n",
    "df_after_over_sampling['Fraud'].value_counts() #in original dataset we had 20-5 combination now 5 has been increased to 20-20"
   ]
  },
  {
   "cell_type": "code",
   "execution_count": 215,
   "id": "0e199247",
   "metadata": {},
   "outputs": [
    {
     "data": {
      "text/plain": [
       "'\\n\\nNaive bayes solve an example from youtube or domething do the same for all algorithms manual solving is necessary\\n\\nNaive bayes is a classification algorithm Based on Bayes theorem \\nwhich is a probability theory that describes the probability of \\nan event based on prior knowledge of conditions that might be\\nrelated to the event\\n\\nNaive: It is called Naive becuase it assumes that the occurance of a certain feature is indepedndent of the occurance of other features\\n\\nBayes: It is called bayes becuse it dependents on the principle of bayes thm\\n\\n\\nCondition probabilty\\n\\nThe conditional probability of an event A, given that B has occurred, is written as:\\n\\np(A|B)=  P(A ∩ B)/P(B) where P(B)>0\\n\\nProbability of event A given B=Probability that both A and B occur/Probability that event B occurs\\n\\n\\nTypes of naive bayes:\\n\\n            Gaussian naive bayes: if data foloows gaussian (normal) distribution\\n            \\n            Bernoulli Naive Bayes: data shoukd be binary data (boolean values 0 or 1)\\n            \\n            multinomial: used in textual data\\n            \\n            \\n            \\n'"
      ]
     },
     "execution_count": 215,
     "metadata": {},
     "output_type": "execute_result"
    }
   ],
   "source": [
    "\"\"\"\n",
    "\n",
    "Naive bayes solve an example from youtube or domething do the same for all algorithms manual solving is necessary\n",
    "\n",
    "Naive bayes is a classification algorithm Based on Bayes theorem \n",
    "which is a probability theory that describes the probability of \n",
    "an event based on prior knowledge of conditions that might be\n",
    "related to the event\n",
    "\n",
    "Naive: It is called Naive becuase it assumes that the occurance of a certain feature is indepedndent of the occurance of other features\n",
    "\n",
    "Bayes: It is called bayes becuse it dependents on the principle of bayes thm\n",
    "\n",
    "\n",
    "Condition probabilty\n",
    "\n",
    "The conditional probability of an event A, given that B has occurred, is written as:\n",
    "\n",
    "p(A|B)=  P(A ∩ B)/P(B) where P(B)>0\n",
    "\n",
    "Probability of event A given B=Probability that both A and B occur/Probability that event B occurs\n",
    "\n",
    "\n",
    "Types of naive bayes:\n",
    "\n",
    "            Gaussian naive bayes: if data foloows gaussian (normal) distribution\n",
    "            \n",
    "            Bernoulli Naive Bayes: data shoukd be binary data (boolean values 0 or 1)\n",
    "            \n",
    "            multinomial: used in textual data\n",
    "            \n",
    "            \n",
    "            \n",
    "\"\"\""
   ]
  },
  {
   "cell_type": "code",
   "execution_count": 216,
   "id": "c1b24194",
   "metadata": {},
   "outputs": [
    {
     "name": "stdout",
     "output_type": "stream",
     "text": [
      "['Pass']\n",
      "Accuracy: 0.5\n",
      "Confusion Matrix:\n",
      " [[0 0]\n",
      " [2 2]]\n"
     ]
    },
    {
     "data": {
      "text/plain": [
       "<Axes: >"
      ]
     },
     "execution_count": 216,
     "metadata": {},
     "output_type": "execute_result"
    },
    {
     "data": {
      "image/png": "[encoded data removed]",
      "text/plain": [
       "<Figure size 640x480 with 2 Axes>"
      ]
     },
     "metadata": {},
     "output_type": "display_data"
    }
   ],
   "source": [
    "#gaussian naive bayes\n",
    "data = {\n",
    "    'Study_Hours': [1.0, 2.0, 2.5, 3.0, 4.0, 4.5, 5.0, 6.0, 6.5, 7.0, 8.0, 9.0],\n",
    "    'Sleep_Hours': [8.0, 7.5, 7.0, 6.5, 6.0, 5.5, 6.5, 6.0, 5.5, 5.0, 4.5, 4.0],\n",
    "    'Result': ['Fail', 'Fail', 'Fail', 'Fail', 'Fail', 'Fail', 'Pass', 'Pass', 'Pass', 'Pass', 'Pass', 'Pass']\n",
    "}\n",
    "df=pd.DataFrame(data)\n",
    "\n",
    "from sklearn.naive_bayes import GaussianNB\n",
    "from sklearn.model_selection import train_test_split\n",
    "\n",
    "x = df[['Study_Hours', 'Sleep_Hours']]\n",
    "y = df['Result']\n",
    "\n",
    "trainx,testx,trainy,testy=train_test_split(x,y,random_state=43,test_size=0.3)\n",
    "\n",
    "model=GaussianNB()\n",
    "\n",
    "model.fit(trainx,trainy)\n",
    "\n",
    "print(model.predict(pd.DataFrame({'Study_Hours':[5.98],'Sleep_Hours':[5]})))\n",
    "\n",
    "pred=model.predict(testx)\n",
    "\n",
    "from sklearn.metrics import accuracy_score, confusion_matrix\n",
    "print(\"Accuracy:\", accuracy_score(testy, pred))\n",
    "print(\"Confusion Matrix:\\n\", confusion_matrix(testy, pred))\n",
    "\n",
    "\n",
    "sns.heatmap(confusion_matrix(testy, pred),annot=True)\n"
   ]
  },
  {
   "cell_type": "code",
   "execution_count": 217,
   "id": "34a38347",
   "metadata": {},
   "outputs": [
    {
     "name": "stdout",
     "output_type": "stream",
     "text": [
      "['Not Buy']\n"
     ]
    },
    {
     "data": {
      "text/plain": [
       "<Axes: >"
      ]
     },
     "execution_count": 217,
     "metadata": {},
     "output_type": "execute_result"
    },
    {
     "data": {
      "image/png": "[encoded data removed]",
      "text/plain": [
       "<Figure size 640x480 with 2 Axes>"
      ]
     },
     "metadata": {},
     "output_type": "display_data"
    }
   ],
   "source": [
    "data = {\n",
    "    'Visited_Website':    [1, 0, 1, 0, 1, 1, 0, 0, 1, 1],\n",
    "    'Clicked_Ad':         [1, 0, 1, 0, 1, 0, 0, 1, 1, 1],\n",
    "    'Subscribed_Newsletter': [1, 0, 1, 0, 0, 0, 0, 1, 1, 1],\n",
    "    'Purchase': ['Buy', 'Not Buy', 'Buy', 'Not Buy', 'Buy', 'Not Buy', 'Not Buy', 'Not Buy', 'Buy', 'Buy']\n",
    "}\n",
    "\n",
    "df=pd.DataFrame(data)\n",
    "\n",
    "from sklearn.naive_bayes import BernoulliNB\n",
    "from sklearn.model_selection import train_test_split\n",
    "\n",
    "x = df[['Visited_Website', 'Clicked_Ad', 'Subscribed_Newsletter']]\n",
    "y = df['Purchase']\n",
    "\n",
    "trainx,testx,trainy,testy=train_test_split(x,y,random_state=43,test_size=0.3)\n",
    "\n",
    "model=BernoulliNB()\n",
    "\n",
    "model.fit(trainx,trainy)\n",
    "\n",
    "print(model.predict(pd.DataFrame({'Visited_Website':[0],'Clicked_Ad':[0],'Subscribed_Newsletter':[1]})))\n",
    "\n",
    "pred=model.predict(testx)\n",
    "\n",
    "sns.heatmap(confusion_matrix(testy,pred),annot=True)"
   ]
  },
  {
   "cell_type": "code",
   "execution_count": 218,
   "id": "9b31d080",
   "metadata": {},
   "outputs": [
    {
     "name": "stdout",
     "output_type": "stream",
     "text": [
      "['spam']\n"
     ]
    },
    {
     "data": {
      "text/plain": [
       "Text(0.5, 1.0, 'Email Spam Classifier Confusion Matrix')"
      ]
     },
     "execution_count": 218,
     "metadata": {},
     "output_type": "execute_result"
    },
    {
     "data": {
      "image/png": "[encoded data removed]",
      "text/plain": [
       "<Figure size 640x480 with 2 Axes>"
      ]
     },
     "metadata": {},
     "output_type": "display_data"
    }
   ],
   "source": [
    "from sklearn.naive_bayes import MultinomialNB\n",
    "from sklearn.model_selection import train_test_split\n",
    "\"\"\"\n",
    "✅ Why Multinomial Naive Bayes for Email Classification?\n",
    "Emails are text ➝ Converted to word frequency vectors\n",
    "\n",
    "Multinomial Naive Bayes models the probability of word occurrences in each class\n",
    "\n",
    "Assumes feature values are non-negative counts ➝ perfect for word frequencies\n",
    "\n",
    "\n",
    "\"\"\"\n",
    "data={\"emails\" : [\n",
    "    \"Win money now!\",                      # spam\n",
    "    \"Cheap loans for you\",                # spam\n",
    "    \"Lowest rates guaranteed\",            # spam\n",
    "    \"Hey, how are you?\",                  # ham\n",
    "    \"Are you free this weekend?\",        # ham\n",
    "    \"Let's catch up for dinner\",          # ham\n",
    "    \"Congratulations! You won a prize\",   # spam\n",
    "    \"Meeting scheduled for Monday\",       # ham\n",
    "    \"Earn cash fast and easy\",            # spam\n",
    "    \"Your account has been updated\"       # ham\n",
    "],\n",
    "\n",
    "\"labels\": [\n",
    "    \"spam\", \"spam\", \"spam\", \"ham\", \"ham\",\n",
    "    \"ham\", \"spam\", \"ham\", \"spam\", \"ham\"\n",
    "]\n",
    "}\n",
    "\n",
    "df=pd.DataFrame(data)\n",
    "\n",
    "from sklearn.feature_extraction.text import CountVectorizer #to vectorize and tokenize means breaking into smal bits of words\n",
    "\"\"\"\n",
    "first does tokenization\n",
    "\"Win money now!\" → [\"win\", \"money\", \"now\"]\n",
    "\n",
    "then does vectorization means Builds a sparse matrix(matrix of zeros and ones) of word counts\n",
    "\n",
    "Sentence: \"Win money now!\"\n",
    "Vocabulary: {\"win\", \"money\", \"now\", \"you\", \"loans\", ...}\n",
    "→ [1, 1, 1, 0, 0, ...]  # Vector form\n",
    "\n",
    "\"\"\"\n",
    "from sklearn.naive_bayes import MultinomialNB\n",
    "from sklearn.model_selection import train_test_split\n",
    "\n",
    "\n",
    "vector=CountVectorizer(binary=False)#binary = false  means the vectorizer will count how many times each word appears in the text. That is, term frequency.\n",
    "                                    #if true then NB ignores frequency it just lokks at the words\n",
    "x=vector.fit_transform(df['emails'])\n",
    "y=df['labels']\n",
    "\n",
    "trainx,testx,trainy,testy=train_test_split(x,y,random_state=43,test_size=0.3)\n",
    "\n",
    "model=MultinomialNB()\n",
    "\n",
    "model.fit(trainx,trainy)\n",
    "\n",
    "\n",
    "test_emails = [\"Congratulations! You’ve been selected\"]\n",
    "\n",
    "pred = vector.transform(test_emails)\n",
    "\n",
    "print(model.predict(pred))\n",
    "\n",
    "\n",
    "y_pred = model.predict(testx)\n",
    "\n",
    "sns.heatmap(confusion_matrix(testy, y_pred, labels=model.classes_),annot=True)\n",
    "plt.xlabel(\"Predicted\")\n",
    "plt.ylabel(\"Actual\")\n",
    "plt.title(\"Email Spam Classifier Confusion Matrix\")\n",
    "\n",
    "\n"
   ]
  },
  {
   "cell_type": "markdown",
   "id": "fcc057e8",
   "metadata": {},
   "source": [
    "**Non linear supervised algorithms**"
   ]
  },
  {
   "cell_type": "code",
   "execution_count": 219,
   "id": "1c8979d8",
   "metadata": {},
   "outputs": [
    {
     "data": {
      "text/plain": [
       "'\\nA non-linear supervised algorithm is a type of supervised machine learning algorithm\\nwhere the relationship between input features and output labels is non-linear — i.e.,\\ncannot be represented by a straight line or linear function.\\n\\nE.g.: Decision trees\\n      Random forests\\n      Gradient Boosting\\n      Support Vector Machine\\n      K-Nearest Neighbors\\n      Neural Networks\\n      \\n'"
      ]
     },
     "execution_count": 219,
     "metadata": {},
     "output_type": "execute_result"
    }
   ],
   "source": [
    "\"\"\"\n",
    "A non-linear supervised algorithm is a type of supervised machine learning algorithm\n",
    "where the relationship between input features and output labels is non-linear — i.e.,\n",
    "cannot be represented by a straight line or linear function.\n",
    "\n",
    "E.g.: Decision trees\n",
    "      Random forests\n",
    "      Gradient Boosting\n",
    "      Support Vector Machine\n",
    "      K-Nearest Neighbors\n",
    "      Neural Networks\n",
    "      \n",
    "\"\"\""
   ]
  },
  {
   "cell_type": "code",
   "execution_count": 220,
   "id": "83354081",
   "metadata": {},
   "outputs": [
    {
     "data": {
      "text/plain": [
       "'\\nDecision Tree algorithm solve an exmaple manually to understand dts better\\n\\nDecision trailers supervise learning technique\\nthat can be used for both classification and\\nregression problems but mostly it is preferred\\nfor solving classification problems\\n\\nIn order to build a tree we use CART algorithm which stands for (Classification and Regession Tree algorithm)\\n\\nCART is a supervised learning algorithm used to build decision trees. It is capable of handling both:\\n\\n    Classification problems (where the output is categorical, e.g., \"Yes\" or \"No\", or \"spam\" or \"not spam\"), and\\n    Regression problems (where the output is continuous, e.g., predicting house prices).\\n\\nCART builds a binary tree (every node splits into exactly two branches) \\nusing a greedy, top-down recursive approach called recursive binary splitting.\\n\\nPROCESS:\\n\\n1.Start at the root node with the full dataset.\\n2.For each feature and each possible threshold, calculate the impurity reduction (e.g., Gini FOR CLASSIFICATION or MSE fot regression).\\n3.Choose the best feature and split point with the maximum information gain / minimum impurity.\\n4.Divide the data into two parts and repeat the process for each child node.\\n5.Continue until:\\n    Maximum depth is reached\\n    Minimum samples per node condition is met\\n    Node becomes pure (only one class remains)\\n\\nGini or Gini impurity\\n\\nGini Impurity is a metric used by the CART algorithm\\n(in classification problems) to decide the best feature\\nand threshold to split a node. It measures how often a \\nrandomly chosen element from the set would be incorrectly\\nlabeled if it was randomly labeled according to the \\ndistribution of labels in the subset.\\n\\nGini(t)=1-sum of n to i=1 (pi^2) p(i)=the proportion (probability) of class i in the node t and n is number of classes\\n\\n\\n| Weather  | Temperature | Play |\\n| -------- | ----------- | ---- |\\n| Sunny    | Hot         | No   |\\n| Overcast | Mild        | Yes  |\\n| Rainy    | Cool        | Yes  |\\n| Sunny    | Cool        | No   |\\n\\n\\nCART will try different splits like:\\n\\nIf Weather == \"Sunny\", split the data.\\n\\nIf Temperature == \"Hot\", split the data.\\n\\nFor each, it calculates Gini impurity for left and right nodes and selects the split with lowest overall impurity.\\n\\n\\nDecision tree of above dataset if slip on given columns will be,\\n\\n                               Weather\\n                    /            |                        Weather is sunny   Weather is Overcast     Weather is Rainy\\n /      |       \\\\                        same tree like the one on left\\nHot   Mild     Cool \\n|      |         |\\nno               no\\n\\ntree will be somthing like that where question node is called as \\ndecision node left and right are called subtrees and ans node are \\ncalled as leaf AND PROCESS OF DIVIDING ONE NODE INTO MANY IS CALLED SPLITTING\\n\\nprunning in decision tree: if decision tree becomes too large it may become overfitted then prunnig is used in whihc some SUB NODES ARE REMOVED \\n\\n'"
      ]
     },
     "execution_count": 220,
     "metadata": {},
     "output_type": "execute_result"
    }
   ],
   "source": [
    "\"\"\"\n",
    "Decision Tree algorithm solve an exmaple manually to understand dts better\n",
    "\n",
    "Decision trailers supervise learning technique\n",
    "that can be used for both classification and\n",
    "regression problems but mostly it is preferred\n",
    "for solving classification problems\n",
    "\n",
    "In order to build a tree we use CART algorithm which stands for (Classification and Regession Tree algorithm)\n",
    "\n",
    "CART is a supervised learning algorithm used to build decision trees. It is capable of handling both:\n",
    "\n",
    "    Classification problems (where the output is categorical, e.g., \"Yes\" or \"No\", or \"spam\" or \"not spam\"), and\n",
    "    Regression problems (where the output is continuous, e.g., predicting house prices).\n",
    "\n",
    "CART builds a binary tree (every node splits into exactly two branches) \n",
    "using a greedy, top-down recursive approach called recursive binary splitting.\n",
    "\n",
    "PROCESS:\n",
    "\n",
    "1.Start at the root node with the full dataset.\n",
    "2.For each feature and each possible threshold, calculate the impurity reduction (e.g., Gini FOR CLASSIFICATION or MSE fot regression).\n",
    "3.Choose the best feature and split point with the maximum information gain / minimum impurity.\n",
    "4.Divide the data into two parts and repeat the process for each child node.\n",
    "5.Continue until:\n",
    "    Maximum depth is reached\n",
    "    Minimum samples per node condition is met\n",
    "    Node becomes pure (only one class remains)\n",
    "\n",
    "Gini or Gini impurity\n",
    "\n",
    "Gini Impurity is a metric used by the CART algorithm\n",
    "(in classification problems) to decide the best feature\n",
    "and threshold to split a node. It measures how often a \n",
    "randomly chosen element from the set would be incorrectly\n",
    "labeled if it was randomly labeled according to the \n",
    "distribution of labels in the subset.\n",
    "\n",
    "Gini(t)=1-sum of n to i=1 (pi^2) p(i)=the proportion (probability) of class i in the node t and n is number of classes\n",
    "\n",
    "\n",
    "| Weather  | Temperature | Play |\n",
    "| -------- | ----------- | ---- |\n",
    "| Sunny    | Hot         | No   |\n",
    "| Overcast | Mild        | Yes  |\n",
    "| Rainy    | Cool        | Yes  |\n",
    "| Sunny    | Cool        | No   |\n",
    "\n",
    "\n",
    "CART will try different splits like:\n",
    "\n",
    "If Weather == \"Sunny\", split the data.\n",
    "\n",
    "If Temperature == \"Hot\", split the data.\n",
    "\n",
    "For each, it calculates Gini impurity for left and right nodes and selects the split with lowest overall impurity.\n",
    "\n",
    "\n",
    "Decision tree of above dataset if slip on given columns will be,\n",
    "\n",
    "                               Weather\n",
    "                    /            |                    \\\n",
    "    Weather is sunny   Weather is Overcast     Weather is Rainy\n",
    " /      |       \\                        same tree like the one on left\n",
    "Hot   Mild     Cool \n",
    "|      |         |\n",
    "no               no\n",
    "\n",
    "tree will be somthing like that where question node is called as \n",
    "decision node left and right are called subtrees and ans node are \n",
    "called as leaf AND PROCESS OF DIVIDING ONE NODE INTO MANY IS CALLED SPLITTING\n",
    "\n",
    "prunning in decision tree: if decision tree becomes too large it may become overfitted then prunnig is used in whihc some SUB NODES ARE REMOVED \n",
    "\n",
    "\"\"\""
   ]
  },
  {
   "cell_type": "code",
   "execution_count": 221,
   "id": "76623320",
   "metadata": {},
   "outputs": [
    {
     "name": "stdout",
     "output_type": "stream",
     "text": [
      "Will the student get the admission?: Yes\n"
     ]
    },
    {
     "data": {
      "image/png": "[encoded data removed]",
      "text/plain": [
       "<Figure size 1200x600 with 1 Axes>"
      ]
     },
     "metadata": {},
     "output_type": "display_data"
    }
   ],
   "source": [
    "data = {\n",
    "    'GPA': [3.6, 2.9, 3.2, 3.8, 2.5, 3.0, 3.7, 3.1, 3.4, 2.7],\n",
    "    'SAT_Score': [1200, 980, 1100, 1400, 900, 1000, 1350, 1080, 1150, 950],\n",
    "    'Extra_Curricular': ['Yes', 'No', 'Yes', 'Yes', 'No', 'No', 'Yes', 'No', 'Yes', 'No'],\n",
    "    'Admitted': ['Yes', 'No', 'Yes', 'Yes', 'No', 'No', 'Yes', 'No', 'Yes', 'No']\n",
    "}\n",
    "\n",
    "df=pd.DataFrame(data)\n",
    "d={'Yes':1,'No':0}\n",
    "\n",
    "df['Extra_Curricular_cat']=df['Extra_Curricular'].map(d)\n",
    "df['Admitted_cat']=df['Admitted'].map(d)         #encoding categorical data\n",
    "\n",
    "\n",
    "x = df[['GPA', 'SAT_Score', 'Extra_Curricular_cat']]  # <--- use encoded feature\n",
    "y = df['Admitted_cat']\n",
    "\n",
    "\n",
    "trainx,testx,trainy,testy=train_test_split(x,y,random_state=43,test_size=0.3)\n",
    "\n",
    "from sklearn.tree import DecisionTreeClassifier\n",
    "\n",
    "model=DecisionTreeClassifier() #criterion=logloss and much more just hover over the parenthreessis you will get the parameters\n",
    "\n",
    "model.fit(trainx,trainy)\n",
    "\n",
    "pred=model.predict(pd.DataFrame({'GPA':[4],'SAT_Score':[1400],'Extra_Curricular_cat':[0]})) \n",
    "\n",
    "for key,value in d.items():\n",
    "    if value==pred:\n",
    "        print(f\"Will the student get the admission?: {key}\")\n",
    "        \n",
    "from sklearn.tree import plot_tree\n",
    "import matplotlib.pyplot as plt  # <-- REQUIRED to show the plot\n",
    "\n",
    "plt.figure(figsize=(12, 6))      # optional: set the size of the plot\n",
    "plot_tree(model, feature_names=x.columns, filled=True)\n",
    "\n",
    "plt.show()                       # <-- THIS is the missing line!\n",
    "\n"
   ]
  },
  {
   "cell_type": "code",
   "execution_count": 222,
   "id": "f93e9599",
   "metadata": {},
   "outputs": [
    {
     "name": "stdout",
     "output_type": "stream",
     "text": [
      "MSE: 36.666666666666664\n",
      "Predicted Final Score: [80.]\n"
     ]
    },
    {
     "data": {
      "image/png": "[encoded data removed]",
      "text/plain": [
       "<Figure size 1200x600 with 1 Axes>"
      ]
     },
     "metadata": {},
     "output_type": "display_data"
    }
   ],
   "source": [
    "#decision tree for regression\n",
    "\n",
    "data = {\n",
    "    'Study_Hours': [1, 2, 3, 4, 5, 6, 7, 8, 9, 10],\n",
    "    'Attendance': [55, 60, 65, 70, 75, 80, 85, 88, 92, 95],\n",
    "    'Extra_Class': ['No', 'No', 'Yes', 'Yes', 'No', 'Yes', 'Yes', 'No', 'Yes', 'Yes'],\n",
    "    'Final_Score': [50, 55, 60, 65, 66, 75, 80, 78, 88, 90]\n",
    "}\n",
    "import pandas as pd\n",
    "from sklearn.tree import DecisionTreeRegressor\n",
    "from sklearn.model_selection import train_test_split\n",
    "from sklearn.metrics import mean_squared_error\n",
    "\n",
    "# 1. Load the data\n",
    "df = pd.DataFrame(data)\n",
    "\n",
    "# 2. Encode categorical column\n",
    "d = {'Yes': 1, 'No': 0}\n",
    "df['Extra_Class_cat'] = df['Extra_Class'].map(d)\n",
    "\n",
    "# 3. Define features and target\n",
    "X = df[['Study_Hours', 'Attendance', 'Extra_Class_cat']]\n",
    "y = df['Final_Score']\n",
    "\n",
    "# 4. Train-test split\n",
    "trainX, testX, trainY, testY = train_test_split(X, y, test_size=0.3, random_state=42)\n",
    "\n",
    "# 5. Initialize and fit the model\n",
    "reg = DecisionTreeRegressor()\n",
    "reg.fit(trainX, trainY)\n",
    "\n",
    "# 6. Predict on test set\n",
    "predictions = reg.predict(testX)\n",
    "\n",
    "# 7. Evaluation\n",
    "print(\"MSE:\", mean_squared_error(testY, predictions))\n",
    "\n",
    "# Predicting Final_Score for a new student\n",
    "# 6 hours of study, 85% attendance, did NOT attend extra class\n",
    "new_data = pd.DataFrame({'Study_Hours': [6], 'Attendance': [85], 'Extra_Class_cat': [0]})\n",
    "\n",
    "predicted_score = reg.predict(new_data)\n",
    "print(\"Predicted Final Score:\", predicted_score)\n",
    "\n",
    "from sklearn.tree import plot_tree\n",
    "import matplotlib.pyplot as plt\n",
    "\n",
    "plt.figure(figsize=(12, 6))\n",
    "plot_tree(reg, feature_names=X.columns, filled=True)\n",
    "plt.show()\n"
   ]
  },
  {
   "cell_type": "code",
   "execution_count": 223,
   "id": "cb06daad",
   "metadata": {},
   "outputs": [],
   "source": [
    "\"\"\"\n",
    "KNN: K nearestr neighbour (used for both class and reg)\n",
    "\n",
    "\"\"\"\n",
    "from sklearn.neighbors import KNeighborsClassifier"
   ]
  }
 ],
 "metadata": {
  "kernelspec": {
   "display_name": "Python 3",
   "language": "python",
   "name": "python3"
  },
  "language_info": {
   "codemirror_mode": {
    "name": "ipython",
    "version": 3
   },
   "file_extension": ".py",
   "mimetype": "text/x-python",
   "name": "python",
   "nbconvert_exporter": "python",
   "pygments_lexer": "ipython3",
   "version": "3.11.7"
  }
 },
 "nbformat": 4,
 "nbformat_minor": 5
}
