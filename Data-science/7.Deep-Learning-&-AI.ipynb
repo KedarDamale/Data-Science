{
 "cells": [
  {
   "cell_type": "code",
   "execution_count": null,
   "id": "ff829760",
   "metadata": {},
   "outputs": [],
   "source": [
    "\"\"\"\n",
    "What is Deep Learning?\n",
    "\n",
    "Deep Learning is a subset of Machine Learning (ML), which itself is a subset of Artificial Intelligence (AI).\n",
    "    AI = making machines smart enough to do tasks that typically require human intelligence.\n",
    "    ML = making machines learn from data and improve over time without explicit programming for each task.\n",
    "    Deep Learning (DL) = a specialized branch of ML that uses artificial neural networks with many layers (hence \"deep\") to model and solve complex problems.\n",
    "\n",
    "The term \"deep\" refers to the number of layers in the neural network. Traditional ML models are often shallow (few layers), but deep learning models have:\n",
    "    Multiple hidden layers between input and output layers.\n",
    "    These layers enable the model to learn hierarchical representations of data — from simple features in early layers to complex features in later layers.\n",
    "\n",
    "\"\"\""
   ]
  },
  {
   "cell_type": "code",
   "execution_count": 1,
   "id": "e0a6eca0",
   "metadata": {},
   "outputs": [
    {
     "data": {
      "text/plain": [
       "'\\n+----------------------------+------------------------------------------------------+---------------------------------------------------------+\\n|         Feature           |                  Machine Learning (ML)              |                  Deep Learning (DL)                     |\\n+----------------------------+------------------------------------------------------+---------------------------------------------------------+\\n| Definition                 | Subset of AI where algorithms learn from data.       | Subset of ML that uses multi-layered neural networks.    |\\n| Data Dependency            | Works well with smaller datasets.                    | Requires large amounts of data to perform well.          |\\n| Feature Engineering        | Manual — features must be selected and created.      | Automatic — extracts features via neural layers.         |\\n| Execution Time            | Generally faster for small/medium datasets.          | Slower due to complex architectures and high computation.|\\n| Interpretability           | More interpretable (e.g., decision trees, SVM).      | Less interpretable (black-box models).                   |\\n| Hardware Dependency        | Can run on CPU easily.                               | Requires high-end GPU/TPU for training efficiency.       |\\n| Accuracy with Big Data     | Plateaus or improves marginally.                     | Accuracy improves significantly with more data.          |\\n| Examples of Algorithms     | Linear Regression, SVM, Decision Trees, KNN.         | CNN, RNN, LSTM, GAN, Transformers.                       |\\n| Use Cases                  | Fraud detection, recommendation systems, spam filter| Image recognition, speech-to-text, NLP tasks.            |\\n| Architecture               | Simple models, shallow structures.                  | Deep Neural Networks (many layers).                      |\\n| Learning Approach          | Supervised/semi-supervised/unsupervised             | Mostly supervised (some unsupervised like autoencoders). |\\n| Model Size                 | Relatively small models.                             | Large models with millions of parameters.                |\\n| Training Time              | Shorter training time.                               | Requires longer training time.                           |\\n| Scalability                | Harder to scale on large datasets.                   | Easily scales with data and computing power.             |\\n| Performance on Unstructured Data | Limited (needs preprocessing).               | Excellent (especially for images, audio, text).          |\\n+----------------------------+------------------------------------------------------+---------------------------------------------------------+\\n\\n'"
      ]
     },
     "execution_count": 1,
     "metadata": {},
     "output_type": "execute_result"
    }
   ],
   "source": [
    "\"\"\"\n",
    "+----------------------------+------------------------------------------------------+---------------------------------------------------------+\n",
    "|         Feature           |                  Machine Learning (ML)              |                  Deep Learning (DL)                     |\n",
    "+----------------------------+------------------------------------------------------+---------------------------------------------------------+\n",
    "| Definition                 | Subset of AI where algorithms learn from data.       | Subset of ML that uses multi-layered neural networks.    |\n",
    "| Data Dependency            | Works well with smaller datasets.                    | Requires large amounts of data to perform well.          |\n",
    "| Feature Engineering        | Manual — features must be selected and created.      | Automatic — extracts features via neural layers.         |\n",
    "| Execution Time            | Generally faster for small/medium datasets.          | Slower due to complex architectures and high computation.|\n",
    "| Interpretability           | More interpretable (e.g., decision trees, SVM).      | Less interpretable (black-box models).                   |\n",
    "| Hardware Dependency        | Can run on CPU easily.                               | Requires high-end GPU/TPU for training efficiency.       |\n",
    "| Accuracy with Big Data     | Plateaus or improves marginally.                     | Accuracy improves significantly with more data.          |\n",
    "| Examples of Algorithms     | Linear Regression, SVM, Decision Trees, KNN.         | CNN, RNN, LSTM, GAN, Transformers.                       |\n",
    "| Use Cases                  | Fraud detection, recommendation systems, spam filter| Image recognition, speech-to-text, NLP tasks.            |\n",
    "| Architecture               | Simple models, shallow structures.                  | Deep Neural Networks (many layers).                      |\n",
    "| Learning Approach          | Supervised/semi-supervised/unsupervised             | Mostly supervised (some unsupervised like autoencoders). |\n",
    "| Model Size                 | Relatively small models.                             | Large models with millions of parameters.                |\n",
    "| Training Time              | Shorter training time.                               | Requires longer training time.                           |\n",
    "| Scalability                | Harder to scale on large datasets.                   | Easily scales with data and computing power.             |\n",
    "| Performance on Unstructured Data | Limited (needs preprocessing).               | Excellent (especially for images, audio, text).          |\n",
    "+----------------------------+------------------------------------------------------+---------------------------------------------------------+\n",
    "\n",
    "\"\"\""
   ]
  },
  {
   "cell_type": "code",
   "execution_count": null,
   "id": "56d2e57c",
   "metadata": {},
   "outputs": [],
   "source": []
  }
 ],
 "metadata": {
  "kernelspec": {
   "display_name": "Python 3",
   "language": "python",
   "name": "python3"
  },
  "language_info": {
   "codemirror_mode": {
    "name": "ipython",
    "version": 3
   },
   "file_extension": ".py",
   "mimetype": "text/x-python",
   "name": "python",
   "nbconvert_exporter": "python",
   "pygments_lexer": "ipython3",
   "version": "3.11.7"
  }
 },
 "nbformat": 4,
 "nbformat_minor": 5
}
