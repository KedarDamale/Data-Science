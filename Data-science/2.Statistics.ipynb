{
 "cells": [
  {
   "cell_type": "code",
   "execution_count": null,
   "id": "927413bf",
   "metadata": {},
   "outputs": [
    {
     "data": {
      "text/plain": [
       "'\\nStatistics:\\n\\nStatistics Is a set of mathematical methods and tools that enable us to answer important questions about data\\n\\nCategories:\\n            - Descriptive\\n            - Inferential\\n            \\nDescriptive statistics is a category that offers methods to summarize data by transforming raw observations into meaningful information that is easy to interpret and share \\n\\nThis type of statistic include \\n\\ninference statistics offers methods to study experiments done on small samples of data and chalk out the inferences to the entire population\\n'"
      ]
     },
     "execution_count": 1,
     "metadata": {},
     "output_type": "execute_result"
    }
   ],
   "source": [
    "\"\"\"\n",
    "Probability:\n",
    "\n",
    "\n",
    "Statistics:\n",
    "\n",
    "Statistics Is a set of mathematical methods and tools that enable us to answer important questions about data\n",
    "\n",
    "Categories:\n",
    "            - Descriptive\n",
    "            - Inferential\n",
    "            \n",
    "Descriptive statistics is a category that offers methods to summarize data by transforming raw observations into meaningful information that is easy to interpret and share \n",
    "\n",
    "This type of statistic include \n",
    "                        - Measure of central tendency (mean median mode)\n",
    "                        - Measure of variability(range,MAD,varaibnce,std deviation)\n",
    "                        - Measures of shape(skewness)\n",
    "                        - Percentiles(percentage,quantiles(boxplot),percentiles)\n",
    "                        - Frequency distribution\n",
    "                        - Covariance and core relation\n",
    "                        \n",
    "inference statistics offers methods to study experiments done on small samples of data and chalk out the inferences to the entire population\n",
    "\n",
    "This type of statistic include \n",
    "                        - Central limit theorem\n",
    "                        - Hypothesis testing\n",
    "                                        -zTEST\n",
    "                                        -Ttest\n",
    "                                        -chi square \n",
    "                                        \n",
    "                                        \n",
    "\"\"\""
   ]
  },
  {
   "cell_type": "markdown",
   "id": "b732062e",
   "metadata": {},
   "source": [
    "1.1 Measure of central tendency\n"
   ]
  },
  {
   "cell_type": "code",
   "execution_count": null,
   "id": "525ebb1c",
   "metadata": {},
   "outputs": [
    {
     "name": "stdout",
     "output_type": "stream",
     "text": [
      "Average of data is: 27.5\n",
      "Average of data is: 27.5\n"
     ]
    }
   ],
   "source": [
    "#1.Mean: Average of elements (sum of elements/number of elements)\n",
    "#why : data is like a frequency it has lighs and lows to figurte out what is the average performance mean is calculated just to figure out what to expect from the data at all times                           \n",
    "\n",
    "import numpy as np\n",
    "import pandas as pd\n",
    "\n",
    "arr=np.array([4,5,6,7,8,9,12,34,54,67,78,90,23,21,21,1])\n",
    "\n",
    "print(f\"Average of data is: {np.sum(arr)/len(arr)}\") #by formula\n",
    "\n",
    "print(f\"Average of data is: {np.mean(arr)}\") #directly by function"
   ]
  },
  {
   "cell_type": "code",
   "execution_count": 11,
   "id": "bf917fd3",
   "metadata": {},
   "outputs": [
    {
     "name": "stdout",
     "output_type": "stream",
     "text": [
      "   Math  Science  English\n",
      "0    85       80       75\n",
      "1    90       85       70\n",
      "2    78       79       82\n",
      "3    92       94       88\n",
      "4    88       90       85\n",
      "Average score in Maths is:86.6\n",
      "Average score in all subjects is:\n",
      "Math       86.6\n",
      "Science    85.6\n",
      "English    80.0\n",
      "dtype: float64\n",
      "Average score in Maths and science is:\n",
      "Math       86.6\n",
      "Science    85.6\n",
      "dtype: float64\n",
      "Average score in Maths is:86.6\n"
     ]
    }
   ],
   "source": [
    "data = {\n",
    "    'Math': [85, 90, 78, 92, 88],\n",
    "    'Science': [80, 85, 79, 94, 90],\n",
    "    'English': [75, 70, 82, 88, 85]\n",
    "}\n",
    "\n",
    "df=pd.DataFrame(data)\n",
    "\n",
    "print(df)\n",
    "\n",
    "print(f\"Average score in Maths is:{np.mean(df['Math'])}\") #using numpy's mean\n",
    "\n",
    "print(f\"Average score in all subjects is:\\n{df.mean()}\") #using pandas mean for all columns\n",
    "print(f\"Average score in Maths and science is:\\n{df[['Math','Science']].mean()}\") #using pandas mean\n",
    "print(f\"Average score in Maths is:{df['Math'].mean()}\") #using pandas mean"
   ]
  },
  {
   "cell_type": "code",
   "execution_count": 24,
   "id": "0e498397",
   "metadata": {},
   "outputs": [
    {
     "name": "stdout",
     "output_type": "stream",
     "text": [
      "Median of data [1, 3, 6, 9, 2, 5, 9, 56, 32, 12, 67, 32] is 9.0\n",
      "Median of dataframe is:\n",
      " Math       88.0\n",
      "Science    85.0\n",
      "English    82.0\n",
      "dtype: float64\n",
      "Median of Math column is: 88.0\n",
      "Median of Math and science column is:\n",
      " Math       88.0\n",
      "Science    85.0\n",
      "dtype: float64\n"
     ]
    }
   ],
   "source": [
    "#Median: exact middle value of the dataset\n",
    "\n",
    "#step:1 sort the data in preferably ascendnig or descending order\n",
    "\n",
    "#step:2 count the elements if count%2==0 then we will get two middle elements and their average will be the median and if tcount is odd then no problem we will get only one elements\n",
    "\n",
    "\n",
    "data = {\n",
    "    'Math': [85, 90, 78, 92, 88],\n",
    "    'Science': [80, 85, 79, 94, 90],\n",
    "    'English': [75, 70, 82, 88, 85]\n",
    "}\n",
    "\n",
    "df=pd.DataFrame(data)\n",
    "\n",
    "\n",
    "l=[1,3,6,9,2,5,9,56,32,12,67,32]\n",
    "\n",
    "print(f\"Median of data {l} is {np.median(l)}\") #using numpy\n",
    "\n",
    "print(f\"Median of dataframe is:\\n {df.median()}\")\n",
    "print(f\"Median of Math column is: {df['Math'].median()}\")\n",
    "print(f\"Median of Math and science column is:\\n {df[['Math','Science']].median()}\")\n",
    "\n",
    "\n"
   ]
  },
  {
   "cell_type": "code",
   "execution_count": null,
   "id": "a7d065aa",
   "metadata": {},
   "outputs": [
    {
     "name": "stdout",
     "output_type": "stream",
     "text": [
      "{1: 3, 3: 3, 4: 2, 5: 2, 6: 2, 7: 2, 8: 3, 9: 1}\n",
      "Mode of the data is: 1\n",
      "Mode of the data is: 3\n",
      "Mode of the data is: 8\n",
      "ModeResult(mode=1, count=3)\n",
      "0    85\n",
      "Name: Math, dtype: int64\n",
      "Math\n",
      "85    2\n",
      "78    1\n",
      "92    1\n",
      "88    1\n",
      "Name: count, dtype: int64\n"
     ]
    }
   ],
   "source": [
    "#Mode means most frequent data\n",
    "\n",
    "arr=[1,1,1,3,4,5,6,7,8,8,8,9,3,3,4,5,6,7]\n",
    "\n",
    "#my mode algorithm\n",
    "hashmap=dict()\n",
    "for i in arr:\n",
    "    if i not in hashmap:\n",
    "        hashmap[i]=1\n",
    "    else:\n",
    "        hashmap[i]+=1\n",
    "print(hashmap)\n",
    "max_freq=max(hashmap.values())\n",
    "for key,value in hashmap.items():\n",
    "    if value==max_freq:\n",
    "         print(f'Mode of the data is: {key}')  #Yes, a dataset can have multiple modes.\n",
    "         \n",
    "#there is no numpy mode function we have to use scipy module for that\n",
    "from scipy import stats\n",
    "print(stats.mode(arr))\n",
    "\n",
    "#pandas mode\n",
    "\n",
    "data = {\n",
    "    'Math': [85, 85, 78, 92, 88],\n",
    "    'Science': [80, 85, 79, 94, 90],\n",
    "    'English': [75, 70, 82, 88, 85]\n",
    "}\n",
    "\n",
    "df=pd.DataFrame(data)\n",
    "\n",
    "print(df['Math'].mode()) #using mode\n",
    "\n",
    "print(df['Math'].value_counts()) #using value counts"
   ]
  },
  {
   "cell_type": "code",
   "execution_count": 54,
   "id": "21dce6fd",
   "metadata": {},
   "outputs": [
    {
     "data": {
      "image/png": "[encoded data removed]",
      "text/plain": [
       "<Figure size 1000x600 with 1 Axes>"
      ]
     },
     "metadata": {},
     "output_type": "display_data"
    }
   ],
   "source": [
    "import numpy as np\n",
    "import matplotlib.pyplot as plt\n",
    "from scipy import stats\n",
    "\n",
    "# Step 1: Generate some sample data (you can also use your own data)\n",
    "np.random.seed(0)  # for reproducibility\n",
    "data = np.random.normal(loc=50, scale=10, size=1000)  # normal distribution\n",
    "\n",
    "# Step 2: Calculate mean, median, and mode\n",
    "mean_val = np.mean(data)\n",
    "median_val = np.median(data)\n",
    "mode_val = stats.mode(data, keepdims=True)[0][0]\n",
    "\n",
    "# Step 3: Plot the histogram\n",
    "plt.figure(figsize=(10, 6))\n",
    "plt.hist(data, bins=30, alpha=0.7, color='skyblue', edgecolor='black')\n",
    "\n",
    "# Step 4: Plot vertical lines for mean, median, and mode\n",
    "plt.axvline(mean_val, color='red', linestyle='dashed', linewidth=2, label=f\"Mean: {mean_val:.2f}\")\n",
    "plt.axvline(median_val, color='green', linestyle='solid', linewidth=2, label=f\"Median: {median_val:.2f}\")\n",
    "plt.axvline(mode_val, color='purple', linestyle='dotted', linewidth=2, label=f\"Mode: {mode_val:.2f}\")\n",
    "\n",
    "# Step 5: Add labels, title, and legend\n",
    "plt.title(\"Histogram with Mean, Median, and Mode\")\n",
    "plt.xlabel(\"Value\")\n",
    "plt.ylabel(\"Frequency\")\n",
    "plt.legend()\n",
    "plt.grid(True)\n",
    "\n",
    "# Step 6: Show plot\n",
    "plt.show()\n"
   ]
  }
 ],
 "metadata": {
  "kernelspec": {
   "display_name": "Python 3",
   "language": "python",
   "name": "python3"
  },
  "language_info": {
   "codemirror_mode": {
    "name": "ipython",
    "version": 3
   },
   "file_extension": ".py",
   "mimetype": "text/x-python",
   "name": "python",
   "nbconvert_exporter": "python",
   "pygments_lexer": "ipython3",
   "version": "3.11.7"
  }
 },
 "nbformat": 4,
 "nbformat_minor": 5
}
