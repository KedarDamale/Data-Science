{
 "cells": [
  {
   "cell_type": "markdown",
   "id": "84383aa7",
   "metadata": {},
   "source": [
    "# **Object Oriented API**"
   ]
  }
 ],
 "metadata": {
  "language_info": {
   "name": "python"
  }
 },
 "nbformat": 4,
 "nbformat_minor": 5
}
