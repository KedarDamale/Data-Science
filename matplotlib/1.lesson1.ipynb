{
 "cells": [
  {
   "cell_type": "markdown",
   "id": "a1d0bd4e",
   "metadata": {},
   "source": [
    "Matplotlib is a mian package and pyplot is subpackage which is used for data visualization matplotlib has many subpackage for images videos and many more\n"
   ]
  },
  {
   "cell_type": "code",
   "execution_count": 1,
   "id": "9a2c5c3f",
   "metadata": {},
   "outputs": [],
   "source": [
    "import matplotlib.pyplot as plt"
   ]
  }
 ],
 "metadata": {
  "kernelspec": {
   "display_name": "Python 3",
   "language": "python",
   "name": "python3"
  },
  "language_info": {
   "codemirror_mode": {
    "name": "ipython",
    "version": 3
   },
   "file_extension": ".py",
   "mimetype": "text/x-python",
   "name": "python",
   "nbconvert_exporter": "python",
   "pygments_lexer": "ipython3",
   "version": "3.11.7"
  }
 },
 "nbformat": 4,
 "nbformat_minor": 5
}
