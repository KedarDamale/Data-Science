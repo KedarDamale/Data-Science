{
 "cells": [
  {
   "cell_type": "code",
   "execution_count": null,
   "id": "171fb475",
   "metadata": {},
   "outputs": [],
   "source": [
    "\"\"\"\n",
    "🔍 plt.axvline() — Explained\n",
    "🔧 Syntax:\n",
    "python\n",
    "Copy\n",
    "Edit\n",
    "plt.axvline(x, color=..., linestyle=..., linewidth=..., label=...)\n",
    "✅ Purpose:\n",
    "It draws a vertical line on the plot at a specific x-value. It’s used to visually indicate a reference value on the x-axis — such as the mean, median, or mode.\n",
    "\n",
    "✅ Key Parameters\n",
    "\n",
    "| Parameter   | Meaning                                                     |\n",
    "| ----------- | ----------------------------------------------------------- |\n",
    "| `x`         | The x-coordinate where the vertical line should be drawn    |\n",
    "| `color`     | Color of the line (e.g., `'red'`, `'green'`, `'blue'`)      |\n",
    "| `linestyle` | Style of the line (`'dashed'`, `'dotted'`, `'solid'`, etc.) |\n",
    "| `linewidth` | Thickness of the line (`1`, `2`, etc.)                      |\n",
    "| `label`     | Label for the line to be used in the **legend**             |\n",
    "\n",
    "\"\"\""
   ]
  },
  {
   "cell_type": "code",
   "execution_count": null,
   "id": "cc6bb97b",
   "metadata": {},
   "outputs": [],
   "source": [
    "import numpy as np\n",
    "import matplotlib.pyplot as plt\n",
    "from scipy import stats\n",
    "\n",
    "# Step 1: Generate some sample data (you can also use your own data)\n",
    "np.random.seed(0)  # for reproducibility\n",
    "data = np.random.normal(loc=50, scale=10, size=1000)  # normal distribution\n",
    "\n",
    "# Step 2: Calculate mean, median, and mode\n",
    "mean_val = np.mean(data)\n",
    "median_val = np.median(data)\n",
    "mode_val = stats.mode(data, keepdims=True)[0][0]\n",
    "\n",
    "# Step 3: Plot the histogram\n",
    "plt.figure(figsize=(10, 6))\n",
    "plt.hist(data, bins=30, alpha=0.7, color='skyblue', edgecolor='black')\n",
    "\n",
    "# Step 4: Plot vertical lines for mean, median, and mode\n",
    "plt.axvline(mean_val, color='red', linestyle='dashed', linewidth=2, label=f\"Mean: {mean_val:.2f}\")\n",
    "plt.axvline(median_val, color='green', linestyle='solid', linewidth=2, label=f\"Median: {median_val:.2f}\")\n",
    "plt.axvline(mode_val, color='purple', linestyle='dotted', linewidth=2, label=f\"Mode: {mode_val:.2f}\")\n",
    "\n",
    "# Step 5: Add labels, title, and legend\n",
    "plt.title(\"Histogram with Mean, Median, and Mode\")\n",
    "plt.xlabel(\"Value\")\n",
    "plt.ylabel(\"Frequency\")\n",
    "plt.legend()\n",
    "plt.grid(True)\n",
    "\n",
    "# Step 6: Show plot\n",
    "plt.show()\n"
   ]
  },
  {
   "cell_type": "code",
   "execution_count": null,
   "id": "aafb62d2",
   "metadata": {},
   "outputs": [],
   "source": [
    "\"\"\"\n",
    "🔍 plt.axhline() — Full Explanation\n",
    "🔧 Syntax:\n",
    "python\n",
    "Copy\n",
    "Edit\n",
    "plt.axhline(y, color=..., linestyle=..., linewidth=..., label=...)\n",
    "✅ Purpose:\n",
    "Draws a horizontal line at a given y-value across the entire width of the plot.\n",
    "\"\"\""
   ]
  },
  {
   "cell_type": "code",
   "execution_count": 1,
   "id": "25076532",
   "metadata": {},
   "outputs": [
    {
     "data": {
      "image/png": "[encoded data removed]",
      "text/plain": [
       "<Figure size 640x480 with 1 Axes>"
      ]
     },
     "metadata": {},
     "output_type": "display_data"
    }
   ],
   "source": [
    "import numpy as np\n",
    "import matplotlib.pyplot as plt\n",
    "\n",
    "data = np.random.normal(loc=50, scale=10, size=1000)\n",
    "\n",
    "# Histogram\n",
    "plt.hist(data, bins=30, color='skyblue', edgecolor='black')\n",
    "\n",
    "# Draw a horizontal line at y = 50\n",
    "plt.axhline(y=50, color='red', linestyle='dashed', linewidth=2, label='y = 50')\n",
    "\n",
    "plt.title(\"Histogram with Horizontal Line\")\n",
    "plt.xlabel(\"Value\")\n",
    "plt.ylabel(\"Frequency\")\n",
    "plt.legend()\n",
    "plt.grid(True)\n",
    "plt.show()\n"
   ]
  },
  {
   "cell_type": "code",
   "execution_count": null,
   "id": "129ad519",
   "metadata": {},
   "outputs": [],
   "source": [
    "\"\"\"\n",
    "\n",
    "📌 Difference Between axvline() and axhline()\n",
    "\n",
    "\n",
    "| Function             | Draws Line Along    | Fixed On Axis |\n",
    "| -------------------- | ------------------- | ------------- |\n",
    "| `plt.axvline(x=...)` | Y-axis (vertical)   | Fixed at `x`  |\n",
    "| `plt.axhline(y=...)` | X-axis (horizontal) | Fixed at `y`  |\n",
    "\n",
    "\"\"\""
   ]
  }
 ],
 "metadata": {
  "kernelspec": {
   "display_name": "Python 3",
   "language": "python",
   "name": "python3"
  },
  "language_info": {
   "codemirror_mode": {
    "name": "ipython",
    "version": 3
   },
   "file_extension": ".py",
   "mimetype": "text/x-python",
   "name": "python",
   "nbconvert_exporter": "python",
   "pygments_lexer": "ipython3",
   "version": "3.11.7"
  }
 },
 "nbformat": 4,
 "nbformat_minor": 5
}
