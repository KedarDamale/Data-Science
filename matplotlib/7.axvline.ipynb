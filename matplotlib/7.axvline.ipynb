{
 "cells": [
  {
   "cell_type": "code",
   "execution_count": null,
   "id": "cc6bb97b",
   "metadata": {},
   "outputs": [],
   "source": [
    "import numpy as np\n",
    "import matplotlib.pyplot as plt\n",
    "from scipy import stats\n",
    "\n",
    "# Step 1: Generate some sample data (you can also use your own data)\n",
    "np.random.seed(0)  # for reproducibility\n",
    "data = np.random.normal(loc=50, scale=10, size=1000)  # normal distribution\n",
    "\n",
    "# Step 2: Calculate mean, median, and mode\n",
    "mean_val = np.mean(data)\n",
    "median_val = np.median(data)\n",
    "mode_val = stats.mode(data, keepdims=True)[0][0]\n",
    "\n",
    "# Step 3: Plot the histogram\n",
    "plt.figure(figsize=(10, 6))\n",
    "plt.hist(data, bins=30, alpha=0.7, color='skyblue', edgecolor='black')\n",
    "\n",
    "# Step 4: Plot vertical lines for mean, median, and mode\n",
    "plt.axvline(mean_val, color='red', linestyle='dashed', linewidth=2, label=f\"Mean: {mean_val:.2f}\")\n",
    "plt.axvline(median_val, color='green', linestyle='solid', linewidth=2, label=f\"Median: {median_val:.2f}\")\n",
    "plt.axvline(mode_val, color='purple', linestyle='dotted', linewidth=2, label=f\"Mode: {mode_val:.2f}\")\n",
    "\n",
    "# Step 5: Add labels, title, and legend\n",
    "plt.title(\"Histogram with Mean, Median, and Mode\")\n",
    "plt.xlabel(\"Value\")\n",
    "plt.ylabel(\"Frequency\")\n",
    "plt.legend()\n",
    "plt.grid(True)\n",
    "\n",
    "# Step 6: Show plot\n",
    "plt.show()\n"
   ]
  }
 ],
 "metadata": {
  "language_info": {
   "name": "python"
  }
 },
 "nbformat": 4,
 "nbformat_minor": 5
}
